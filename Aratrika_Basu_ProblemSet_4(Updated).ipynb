{
  "nbformat": 4,
  "nbformat_minor": 0,
  "metadata": {
    "colab": {
      "name": "Aratrika_Basu_ProblemSet_4(Updated).ipynb",
      "provenance": [],
      "authorship_tag": "ABX9TyPdBe7wKx5jfqyaGmTWG9Xa",
      "include_colab_link": true
    },
    "kernelspec": {
      "name": "python3",
      "display_name": "Python 3"
    }
  },
  "cells": [
    {
      "cell_type": "markdown",
      "metadata": {
        "id": "view-in-github",
        "colab_type": "text"
      },
      "source": [
        "<a href=\"https://colab.research.google.com/github/Aratrika93/Kapoor/blob/main/Aratrika_Basu_ProblemSet_4(Updated).ipynb\" target=\"_parent\"><img src=\"https://colab.research.google.com/assets/colab-badge.svg\" alt=\"Open In Colab\"/></a>"
      ]
    },
    {
      "cell_type": "code",
      "metadata": {
        "id": "awPzN-3UP9GE"
      },
      "source": [
        "#Importing important libraries"
      ],
      "execution_count": 171,
      "outputs": []
    },
    {
      "cell_type": "code",
      "metadata": {
        "id": "NrHiYEr_2gAW"
      },
      "source": [
        "import numpy as np\r\n",
        "import pandas as pd\r\n",
        "import tensorflow as tf\r\n",
        "\r\n",
        "np.set_printoptions(suppress=True)\r\n",
        "np.set_printoptions(threshold=10)\r\n",
        "\r\n",
        "import matplotlib.pyplot as plt\r\n",
        "%matplotlib inline\r\n"
      ],
      "execution_count": 2,
      "outputs": []
    },
    {
      "cell_type": "code",
      "metadata": {
        "id": "upd8rn1tP4al"
      },
      "source": [
        "#Uploading files to Google Colab"
      ],
      "execution_count": 170,
      "outputs": []
    },
    {
      "cell_type": "code",
      "metadata": {
        "colab": {
          "resources": {
            "http://localhost:8080/nbextensions/google.colab/files.js": {
              "data": "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",
              "ok": true,
              "headers": [
                [
                  "content-type",
                  "application/javascript"
                ]
              ],
              "status": 200,
              "status_text": ""
            }
          },
          "base_uri": "https://localhost:8080/",
          "height": 128
        },
        "id": "FK9p6gRE3EBr",
        "outputId": "1353b85a-95dc-453e-8299-40c103633e46"
      },
      "source": [
        "from google.colab import files \r\n",
        "uploaded = files.upload()\r\n",
        "uploadedZ = files.upload()\r\n",
        "import io \r\n",
        "images = np.load(io.BytesIO(uploaded['ps4_trainvalid_images.npy'])) \r\n",
        "images_labels = pd.read_csv(io.BytesIO(uploadedZ['ps4_trainvalid_labels.csv'])) "
      ],
      "execution_count": 3,
      "outputs": [
        {
          "output_type": "display_data",
          "data": {
            "text/html": [
              "\n",
              "     <input type=\"file\" id=\"files-8df6c096-d35c-4aeb-bca3-cae2eb43067b\" name=\"files[]\" multiple disabled\n",
              "        style=\"border:none\" />\n",
              "     <output id=\"result-8df6c096-d35c-4aeb-bca3-cae2eb43067b\">\n",
              "      Upload widget is only available when the cell has been executed in the\n",
              "      current browser session. Please rerun this cell to enable.\n",
              "      </output>\n",
              "      <script src=\"/nbextensions/google.colab/files.js\"></script> "
            ],
            "text/plain": [
              "<IPython.core.display.HTML object>"
            ]
          },
          "metadata": {
            "tags": []
          }
        },
        {
          "output_type": "stream",
          "text": [
            "Saving ps4_trainvalid_images.npy to ps4_trainvalid_images.npy\n"
          ],
          "name": "stdout"
        },
        {
          "output_type": "display_data",
          "data": {
            "text/html": [
              "\n",
              "     <input type=\"file\" id=\"files-df2f887c-1703-408e-835a-7a5896411a2b\" name=\"files[]\" multiple disabled\n",
              "        style=\"border:none\" />\n",
              "     <output id=\"result-df2f887c-1703-408e-835a-7a5896411a2b\">\n",
              "      Upload widget is only available when the cell has been executed in the\n",
              "      current browser session. Please rerun this cell to enable.\n",
              "      </output>\n",
              "      <script src=\"/nbextensions/google.colab/files.js\"></script> "
            ],
            "text/plain": [
              "<IPython.core.display.HTML object>"
            ]
          },
          "metadata": {
            "tags": []
          }
        },
        {
          "output_type": "stream",
          "text": [
            "Saving ps4_trainvalid_labels.csv to ps4_trainvalid_labels.csv\n"
          ],
          "name": "stdout"
        }
      ]
    },
    {
      "cell_type": "code",
      "metadata": {
        "id": "NoSm0tgB-Ij-"
      },
      "source": [
        ""
      ],
      "execution_count": null,
      "outputs": []
    },
    {
      "cell_type": "code",
      "metadata": {
        "id": "tN57uPhBDH_R"
      },
      "source": [
        "#Feature data & label data"
      ],
      "execution_count": 169,
      "outputs": []
    },
    {
      "cell_type": "code",
      "metadata": {
        "colab": {
          "base_uri": "https://localhost:8080/"
        },
        "id": "MKsgv5vjCyCY",
        "outputId": "4d4c2e8f-d381-46c8-b7d2-c8fcc76079c1"
      },
      "source": [
        "images.shape, images_labels.shape"
      ],
      "execution_count": 4,
      "outputs": [
        {
          "output_type": "execute_result",
          "data": {
            "text/plain": [
              "((13260, 64, 64, 1), (13260, 2))"
            ]
          },
          "metadata": {
            "tags": []
          },
          "execution_count": 4
        }
      ]
    },
    {
      "cell_type": "code",
      "metadata": {
        "colab": {
          "base_uri": "https://localhost:8080/",
          "height": 402
        },
        "id": "FW-4CeX_QaSF",
        "outputId": "492cae7b-ce21-4754-ad92-8b98b0c45113"
      },
      "source": [
        "images_labels1 = images_labels.drop('Id', axis = 1)\r\n",
        "images_labels1"
      ],
      "execution_count": 5,
      "outputs": [
        {
          "output_type": "execute_result",
          "data": {
            "text/html": [
              "<div>\n",
              "<style scoped>\n",
              "    .dataframe tbody tr th:only-of-type {\n",
              "        vertical-align: middle;\n",
              "    }\n",
              "\n",
              "    .dataframe tbody tr th {\n",
              "        vertical-align: top;\n",
              "    }\n",
              "\n",
              "    .dataframe thead th {\n",
              "        text-align: right;\n",
              "    }\n",
              "</style>\n",
              "<table border=\"1\" class=\"dataframe\">\n",
              "  <thead>\n",
              "    <tr style=\"text-align: right;\">\n",
              "      <th></th>\n",
              "      <th>Label</th>\n",
              "    </tr>\n",
              "  </thead>\n",
              "  <tbody>\n",
              "    <tr>\n",
              "      <th>0</th>\n",
              "      <td>0</td>\n",
              "    </tr>\n",
              "    <tr>\n",
              "      <th>1</th>\n",
              "      <td>0</td>\n",
              "    </tr>\n",
              "    <tr>\n",
              "      <th>2</th>\n",
              "      <td>0</td>\n",
              "    </tr>\n",
              "    <tr>\n",
              "      <th>3</th>\n",
              "      <td>0</td>\n",
              "    </tr>\n",
              "    <tr>\n",
              "      <th>4</th>\n",
              "      <td>0</td>\n",
              "    </tr>\n",
              "    <tr>\n",
              "      <th>...</th>\n",
              "      <td>...</td>\n",
              "    </tr>\n",
              "    <tr>\n",
              "      <th>13255</th>\n",
              "      <td>1</td>\n",
              "    </tr>\n",
              "    <tr>\n",
              "      <th>13256</th>\n",
              "      <td>1</td>\n",
              "    </tr>\n",
              "    <tr>\n",
              "      <th>13257</th>\n",
              "      <td>0</td>\n",
              "    </tr>\n",
              "    <tr>\n",
              "      <th>13258</th>\n",
              "      <td>2</td>\n",
              "    </tr>\n",
              "    <tr>\n",
              "      <th>13259</th>\n",
              "      <td>0</td>\n",
              "    </tr>\n",
              "  </tbody>\n",
              "</table>\n",
              "<p>13260 rows × 1 columns</p>\n",
              "</div>"
            ],
            "text/plain": [
              "       Label\n",
              "0          0\n",
              "1          0\n",
              "2          0\n",
              "3          0\n",
              "4          0\n",
              "...      ...\n",
              "13255      1\n",
              "13256      1\n",
              "13257      0\n",
              "13258      2\n",
              "13259      0\n",
              "\n",
              "[13260 rows x 1 columns]"
            ]
          },
          "metadata": {
            "tags": []
          },
          "execution_count": 5
        }
      ]
    },
    {
      "cell_type": "code",
      "metadata": {
        "id": "FHpOratkPqJ6"
      },
      "source": [
        "#To check label balance"
      ],
      "execution_count": 168,
      "outputs": []
    },
    {
      "cell_type": "code",
      "metadata": {
        "colab": {
          "base_uri": "https://localhost:8080/"
        },
        "id": "lfFcCoDLIQA9",
        "outputId": "8fd71745-835c-489d-8dcb-52eebb702f5e"
      },
      "source": [
        "images_labels1['Label'].value_counts()"
      ],
      "execution_count": 9,
      "outputs": [
        {
          "output_type": "execute_result",
          "data": {
            "text/plain": [
              "0    10506\n",
              "1     2372\n",
              "2      382\n",
              "Name: Label, dtype: int64"
            ]
          },
          "metadata": {
            "tags": []
          },
          "execution_count": 9
        }
      ]
    },
    {
      "cell_type": "code",
      "metadata": {
        "colab": {
          "base_uri": "https://localhost:8080/"
        },
        "id": "P-sqsIY2GSH1",
        "outputId": "d0214caa-f48c-43e8-ffd5-11d853bd5438"
      },
      "source": [
        "#Create random indices\r\n",
        "np.random.seed(42)\r\n",
        "N=len(images)\r\n",
        "\r\n",
        "shuffled_indices = np.random.permutation(N)\r\n",
        "train_indices = shuffled_indices[:int(N*0.6)]\r\n",
        "valid_indices = shuffled_indices[int(N*0.6):int(N*0.8)]\r\n",
        "test_indices = shuffled_indices[int(N*0.8):]\r\n",
        "\r\n",
        "train_x = images[train_indices]\r\n",
        "valid_x = images[valid_indices]\r\n",
        "test_x = images[test_indices]\r\n",
        "\r\n",
        "train_y=images_labels1.iloc[train_indices]\r\n",
        "valid_y=images_labels1.iloc[valid_indices]\r\n",
        "test_y=images_labels1.iloc[test_indices]\r\n",
        "\r\n",
        "train_x.shape,valid_x.shape,test_x.shape,train_y.shape,valid_y.shape,test_y.shape"
      ],
      "execution_count": 10,
      "outputs": [
        {
          "output_type": "execute_result",
          "data": {
            "text/plain": [
              "((7956, 64, 64, 1),\n",
              " (2652, 64, 64, 1),\n",
              " (2652, 64, 64, 1),\n",
              " (7956, 1),\n",
              " (2652, 1),\n",
              " (2652, 1))"
            ]
          },
          "metadata": {
            "tags": []
          },
          "execution_count": 10
        }
      ]
    },
    {
      "cell_type": "code",
      "metadata": {
        "id": "uPEW7t1wPgvi"
      },
      "source": [
        "#Applying oversampling technique SMOTE to train & validation dataset"
      ],
      "execution_count": 167,
      "outputs": []
    },
    {
      "cell_type": "code",
      "metadata": {
        "colab": {
          "base_uri": "https://localhost:8080/"
        },
        "id": "Z8p3ebL2LjRq",
        "outputId": "4f3be55a-a6d3-47cf-d77a-bf40b1d14864"
      },
      "source": [
        "print(\"Before OverSampling, counts of label '0': {}\".format(sum(train_y['Label'] == 0))) \r\n",
        "print(\"Before OverSampling, counts of label '1': {} \\n\".format(sum(train_y['Label'] == 1))) \r\n",
        "print(\"Before OverSampling, counts of label '2': {} \\n\".format(sum(train_y['Label'] == 2))) "
      ],
      "execution_count": 19,
      "outputs": [
        {
          "output_type": "stream",
          "text": [
            "Before OverSampling, counts of label '0': 6297\n",
            "Before OverSampling, counts of label '1': 1437 \n",
            "\n",
            "Before OverSampling, counts of label '2': 222 \n",
            "\n"
          ],
          "name": "stdout"
        }
      ]
    },
    {
      "cell_type": "code",
      "metadata": {
        "colab": {
          "base_uri": "https://localhost:8080/"
        },
        "id": "Ea8oNuMZWUcT",
        "outputId": "eadc0e69-5fa2-4324-97ad-8c6d48e7b1da"
      },
      "source": [
        "print(\"Before OverSampling, counts of label '0': {}\".format(sum(valid_y['Label'] == 0))) \r\n",
        "print(\"Before OverSampling, counts of label '1': {} \\n\".format(sum(valid_y['Label'] == 1))) \r\n",
        "print(\"Before OverSampling, counts of label '2': {} \\n\".format(sum(valid_y['Label'] == 2))) "
      ],
      "execution_count": 42,
      "outputs": [
        {
          "output_type": "stream",
          "text": [
            "Before OverSampling, counts of label '0': 2101\n",
            "Before OverSampling, counts of label '1': 473 \n",
            "\n",
            "Before OverSampling, counts of label '2': 78 \n",
            "\n"
          ],
          "name": "stdout"
        }
      ]
    },
    {
      "cell_type": "code",
      "metadata": {
        "colab": {
          "base_uri": "https://localhost:8080/"
        },
        "id": "eduLJx_sSGCO",
        "outputId": "11f749e1-ccdc-436c-b062-e45cc64d7cd0"
      },
      "source": [
        "nsamples, nx, ny, z = train_x.shape\r\n",
        "d2_train_x = train_x.reshape((nsamples,nx*ny))\r\n",
        "d2_train_x.shape"
      ],
      "execution_count": 27,
      "outputs": [
        {
          "output_type": "execute_result",
          "data": {
            "text/plain": [
              "(7956, 4096)"
            ]
          },
          "metadata": {
            "tags": []
          },
          "execution_count": 27
        }
      ]
    },
    {
      "cell_type": "code",
      "metadata": {
        "colab": {
          "base_uri": "https://localhost:8080/"
        },
        "id": "feeQPEkkWbXp",
        "outputId": "6032d7b7-df37-47ed-c272-12ee4b0352d4"
      },
      "source": [
        "nsamples, nx, ny, z = valid_x.shape\r\n",
        "d2_valid_x = valid_x.reshape((nsamples,nx*ny))\r\n",
        "d2_valid_x.shape"
      ],
      "execution_count": 44,
      "outputs": [
        {
          "output_type": "execute_result",
          "data": {
            "text/plain": [
              "(2652, 4096)"
            ]
          },
          "metadata": {
            "tags": []
          },
          "execution_count": 44
        }
      ]
    },
    {
      "cell_type": "code",
      "metadata": {
        "colab": {
          "base_uri": "https://localhost:8080/"
        },
        "id": "6MuMTG27OcoK",
        "outputId": "3b98f60d-992b-44fd-ec70-9b73ef67d217"
      },
      "source": [
        "from imblearn.over_sampling import SMOTE\r\n",
        "sm = SMOTE(random_state = 3) \r\n",
        "X_train_res, y_train_res = sm.fit_resample(d2_train_x, train_y) \r\n",
        "  \r\n",
        "print('After OverSampling, the shape of train_X: {}'.format(X_train_res.shape)) \r\n",
        "print('After OverSampling, the shape of train_y: {} \\n'.format(y_train_res.shape)) \r\n",
        "  \r\n",
        "print(\"After OverSampling, counts of label '0': {}\".format(sum(y_train_res == 0))) \r\n",
        "print(\"After OverSampling, counts of label '1': {}\".format(sum(y_train_res == 1))) \r\n",
        "print(\"After OverSampling, counts of label '2': {}\".format(sum(y_train_res == 2))) "
      ],
      "execution_count": 28,
      "outputs": [
        {
          "output_type": "stream",
          "text": [
            "/usr/local/lib/python3.7/dist-packages/sklearn/utils/validation.py:760: DataConversionWarning: A column-vector y was passed when a 1d array was expected. Please change the shape of y to (n_samples, ), for example using ravel().\n",
            "  y = column_or_1d(y, warn=True)\n",
            "/usr/local/lib/python3.7/dist-packages/sklearn/utils/deprecation.py:87: FutureWarning: Function safe_indexing is deprecated; safe_indexing is deprecated in version 0.22 and will be removed in version 0.24.\n",
            "  warnings.warn(msg, category=FutureWarning)\n",
            "/usr/local/lib/python3.7/dist-packages/sklearn/utils/deprecation.py:87: FutureWarning: Function safe_indexing is deprecated; safe_indexing is deprecated in version 0.22 and will be removed in version 0.24.\n",
            "  warnings.warn(msg, category=FutureWarning)\n"
          ],
          "name": "stderr"
        },
        {
          "output_type": "stream",
          "text": [
            "After OverSampling, the shape of train_X: (18891, 4096)\n",
            "After OverSampling, the shape of train_y: (18891,) \n",
            "\n",
            "After OverSampling, counts of label '0': 6297\n",
            "After OverSampling, counts of label '1': 6297\n",
            "After OverSampling, counts of label '2': 6297\n"
          ],
          "name": "stdout"
        }
      ]
    },
    {
      "cell_type": "code",
      "metadata": {
        "colab": {
          "base_uri": "https://localhost:8080/"
        },
        "id": "hkTikVnjTnvM",
        "outputId": "2dc3cc36-8ac0-4c3e-dad3-c48361407770"
      },
      "source": [
        "import math\r\n",
        "nsamples, nx = X_train_res.shape\r\n",
        "fin_train_x = X_train_res.reshape((nsamples,int(math.sqrt(nx)),int(math.sqrt(nx)), 1))\r\n",
        "fin_train_x.shape, y_train_res.shape"
      ],
      "execution_count": 48,
      "outputs": [
        {
          "output_type": "execute_result",
          "data": {
            "text/plain": [
              "((18891, 64, 64, 1), (18891,))"
            ]
          },
          "metadata": {
            "tags": []
          },
          "execution_count": 48
        }
      ]
    },
    {
      "cell_type": "code",
      "metadata": {
        "colab": {
          "base_uri": "https://localhost:8080/"
        },
        "id": "UAGCMUFjWzLC",
        "outputId": "e20c75d1-2f5a-43ae-ebdb-1caf939f650d"
      },
      "source": [
        "sm = SMOTE(random_state = 3) \r\n",
        "X_valid_res, y_valid_res = sm.fit_resample(d2_valid_x, valid_y) \r\n",
        "  \r\n",
        "print('After OverSampling, the shape of train_X: {}'.format(X_valid_res.shape)) \r\n",
        "print('After OverSampling, the shape of train_y: {} \\n'.format(y_valid_res.shape)) \r\n",
        "  \r\n",
        "print(\"After OverSampling, counts of label '0': {}\".format(sum(y_valid_res == 0))) \r\n",
        "print(\"After OverSampling, counts of label '1': {}\".format(sum(y_valid_res == 1))) \r\n",
        "print(\"After OverSampling, counts of label '2': {}\".format(sum(y_valid_res == 2))) "
      ],
      "execution_count": 46,
      "outputs": [
        {
          "output_type": "stream",
          "text": [
            "/usr/local/lib/python3.7/dist-packages/sklearn/utils/validation.py:760: DataConversionWarning: A column-vector y was passed when a 1d array was expected. Please change the shape of y to (n_samples, ), for example using ravel().\n",
            "  y = column_or_1d(y, warn=True)\n",
            "/usr/local/lib/python3.7/dist-packages/sklearn/utils/deprecation.py:87: FutureWarning: Function safe_indexing is deprecated; safe_indexing is deprecated in version 0.22 and will be removed in version 0.24.\n",
            "  warnings.warn(msg, category=FutureWarning)\n"
          ],
          "name": "stderr"
        },
        {
          "output_type": "stream",
          "text": [
            "After OverSampling, the shape of train_X: (6303, 4096)\n",
            "After OverSampling, the shape of train_y: (6303,) \n",
            "\n",
            "After OverSampling, counts of label '0': 2101\n",
            "After OverSampling, counts of label '1': 2101\n",
            "After OverSampling, counts of label '2': 2101\n"
          ],
          "name": "stdout"
        },
        {
          "output_type": "stream",
          "text": [
            "/usr/local/lib/python3.7/dist-packages/sklearn/utils/deprecation.py:87: FutureWarning: Function safe_indexing is deprecated; safe_indexing is deprecated in version 0.22 and will be removed in version 0.24.\n",
            "  warnings.warn(msg, category=FutureWarning)\n"
          ],
          "name": "stderr"
        }
      ]
    },
    {
      "cell_type": "code",
      "metadata": {
        "colab": {
          "base_uri": "https://localhost:8080/"
        },
        "id": "Hxq-8MLsXQGS",
        "outputId": "7dfdfbc9-fe4c-4b7a-cb2e-670b1f8e24d4"
      },
      "source": [
        "import math\r\n",
        "nsamples, nx = X_valid_res.shape\r\n",
        "fin_valid_x = X_valid_res.reshape((nsamples,int(math.sqrt(nx)),int(math.sqrt(nx)), 1))\r\n",
        "fin_valid_x.shape, y_valid_res.shape"
      ],
      "execution_count": 49,
      "outputs": [
        {
          "output_type": "execute_result",
          "data": {
            "text/plain": [
              "((6303, 64, 64, 1), (6303,))"
            ]
          },
          "metadata": {
            "tags": []
          },
          "execution_count": 49
        }
      ]
    },
    {
      "cell_type": "code",
      "metadata": {
        "id": "4jbGXOJFJkLe"
      },
      "source": [
        "#Simple Forward-Fed Neural Network"
      ],
      "execution_count": 7,
      "outputs": []
    },
    {
      "cell_type": "code",
      "metadata": {
        "colab": {
          "base_uri": "https://localhost:8080/"
        },
        "id": "aRjZg0s4LNjb",
        "outputId": "db5f4d00-6ec4-45f0-93c0-2ab271190b7a"
      },
      "source": [
        "onelayer = tf.keras.Sequential([\r\n",
        "                                        tf.keras.layers.Flatten(input_shape=(64, 64, 1)),\r\n",
        "                                        tf.keras.layers.Dense(128, activation = 'relu'),\r\n",
        "                                        tf.keras.layers.Dense(10, activation = 'softmax')])\r\n",
        "\r\n",
        "\r\n",
        "onelayer.compile(optimizer = 'adam', \r\n",
        "                 loss = tf.keras.losses.SparseCategoricalCrossentropy(from_logits=False),\r\n",
        "                 metrics = ['accuracy'])\r\n",
        "\r\n",
        "onelayer.summary()"
      ],
      "execution_count": 50,
      "outputs": [
        {
          "output_type": "stream",
          "text": [
            "Model: \"sequential\"\n",
            "_________________________________________________________________\n",
            "Layer (type)                 Output Shape              Param #   \n",
            "=================================================================\n",
            "flatten (Flatten)            (None, 4096)              0         \n",
            "_________________________________________________________________\n",
            "dense (Dense)                (None, 128)               524416    \n",
            "_________________________________________________________________\n",
            "dense_1 (Dense)              (None, 10)                1290      \n",
            "=================================================================\n",
            "Total params: 525,706\n",
            "Trainable params: 525,706\n",
            "Non-trainable params: 0\n",
            "_________________________________________________________________\n"
          ],
          "name": "stdout"
        }
      ]
    },
    {
      "cell_type": "code",
      "metadata": {
        "id": "MpMSr_eCZAea"
      },
      "source": [
        "#Early Stopping used throughout all the models, for controlling overfitting & getting optimum number of epochs\r\n",
        "callback1 = tf.keras.callbacks.EarlyStopping(monitor='val_loss', patience=2)"
      ],
      "execution_count": 54,
      "outputs": []
    },
    {
      "cell_type": "code",
      "metadata": {
        "colab": {
          "base_uri": "https://localhost:8080/"
        },
        "id": "e_0sNEKvNYW0",
        "outputId": "87a4d54f-90f7-4498-a6cf-6a104425d204"
      },
      "source": [
        "#Train\r\n",
        "history = onelayer.fit(fin_train_x, y_train_res, epochs=30, validation_data=(fin_valid_x, y_valid_res), callbacks=[callback1])"
      ],
      "execution_count": 55,
      "outputs": [
        {
          "output_type": "stream",
          "text": [
            "Epoch 1/30\n",
            "591/591 [==============================] - 3s 6ms/step - loss: 1.0989 - accuracy: 0.3258 - val_loss: 1.0987 - val_accuracy: 0.3333\n",
            "Epoch 2/30\n",
            "591/591 [==============================] - 3s 5ms/step - loss: 1.0988 - accuracy: 0.3323 - val_loss: 1.0986 - val_accuracy: 0.3337\n",
            "Epoch 3/30\n",
            "591/591 [==============================] - 3s 5ms/step - loss: 1.0989 - accuracy: 0.3286 - val_loss: 1.0986 - val_accuracy: 0.3337\n",
            "Epoch 4/30\n",
            "591/591 [==============================] - 3s 5ms/step - loss: 1.0988 - accuracy: 0.3337 - val_loss: 1.0986 - val_accuracy: 0.3333\n",
            "Epoch 5/30\n",
            "591/591 [==============================] - 3s 6ms/step - loss: 1.0988 - accuracy: 0.3296 - val_loss: 1.0986 - val_accuracy: 0.3335\n",
            "Epoch 6/30\n",
            "591/591 [==============================] - 3s 6ms/step - loss: 1.0988 - accuracy: 0.3288 - val_loss: 1.0986 - val_accuracy: 0.3333\n",
            "Epoch 7/30\n",
            "591/591 [==============================] - 3s 6ms/step - loss: 1.0988 - accuracy: 0.3279 - val_loss: 1.0986 - val_accuracy: 0.3333\n",
            "Epoch 8/30\n",
            "591/591 [==============================] - 3s 6ms/step - loss: 1.0988 - accuracy: 0.3248 - val_loss: 1.0985 - val_accuracy: 0.3333\n",
            "Epoch 9/30\n",
            "591/591 [==============================] - 3s 6ms/step - loss: 1.0987 - accuracy: 0.3329 - val_loss: 1.0985 - val_accuracy: 0.3333\n",
            "Epoch 10/30\n",
            "591/591 [==============================] - 3s 6ms/step - loss: 1.0987 - accuracy: 0.3316 - val_loss: 1.0986 - val_accuracy: 0.3337\n",
            "Epoch 11/30\n",
            "591/591 [==============================] - 3s 6ms/step - loss: 1.0988 - accuracy: 0.3293 - val_loss: 1.0985 - val_accuracy: 0.3333\n",
            "Epoch 12/30\n",
            "591/591 [==============================] - 4s 6ms/step - loss: 1.0987 - accuracy: 0.3287 - val_loss: 1.0985 - val_accuracy: 0.3333\n",
            "Epoch 13/30\n",
            "591/591 [==============================] - 4s 6ms/step - loss: 1.0987 - accuracy: 0.3311 - val_loss: 1.0985 - val_accuracy: 0.3337\n",
            "Epoch 14/30\n",
            "591/591 [==============================] - 3s 6ms/step - loss: 1.0987 - accuracy: 0.3276 - val_loss: 1.0985 - val_accuracy: 0.3337\n",
            "Epoch 15/30\n",
            "591/591 [==============================] - 3s 6ms/step - loss: 1.0987 - accuracy: 0.3322 - val_loss: 1.0985 - val_accuracy: 0.3333\n",
            "Epoch 16/30\n",
            "591/591 [==============================] - 3s 6ms/step - loss: 1.0987 - accuracy: 0.3225 - val_loss: 1.0985 - val_accuracy: 0.3333\n"
          ],
          "name": "stdout"
        }
      ]
    },
    {
      "cell_type": "code",
      "metadata": {
        "colab": {
          "base_uri": "https://localhost:8080/",
          "height": 499
        },
        "id": "G5i_Bi6JN3JQ",
        "outputId": "66d72ab4-19d8-4e2f-cb33-1340e98bc67e"
      },
      "source": [
        "#Plotting accuracy & loss\r\n",
        "acc = history.history['accuracy']\r\n",
        "val_acc = history.history['val_accuracy']\r\n",
        "\r\n",
        "loss = history.history['loss']\r\n",
        "val_loss = history.history['val_loss']\r\n",
        "\r\n",
        "epochs_range = range(16)\r\n",
        "\r\n",
        "plt.figure(figsize=(8, 8))\r\n",
        "plt.subplot(1, 2, 1)\r\n",
        "plt.plot(epochs_range, acc, label='Training Accuracy')\r\n",
        "plt.plot(epochs_range, val_acc, label='Validation Accuracy')\r\n",
        "plt.legend(loc='lower right')\r\n",
        "plt.title('Training and Validation Accuracy')\r\n",
        "\r\n",
        "plt.subplot(1, 2, 2)\r\n",
        "plt.plot(epochs_range, loss, label='Training Loss')\r\n",
        "plt.plot(epochs_range, val_loss, label='Validation Loss')\r\n",
        "plt.legend(loc='upper right')\r\n",
        "plt.title('Training and Validation Loss')\r\n",
        "plt.show()"
      ],
      "execution_count": 56,
      "outputs": [
        {
          "output_type": "display_data",
          "data": {
            "image/png": "[encoded data removed]",
            "text/plain": [
              "<Figure size 576x576 with 2 Axes>"
            ]
          },
          "metadata": {
            "tags": [],
            "needs_background": "light"
          }
        }
      ]
    },
    {
      "cell_type": "code",
      "metadata": {
        "id": "VcbDsrxzO_Rv"
      },
      "source": [
        "#Random test on a validation datapoint"
      ],
      "execution_count": 165,
      "outputs": []
    },
    {
      "cell_type": "code",
      "metadata": {
        "colab": {
          "base_uri": "https://localhost:8080/",
          "height": 285
        },
        "id": "f0aqMK4aReXF",
        "outputId": "a6e99582-4619-4d84-ed76-8876c08f1c62"
      },
      "source": [
        "idx = 56\r\n",
        "plt.imshow(fin_valid_x[idx].squeeze())"
      ],
      "execution_count": 58,
      "outputs": [
        {
          "output_type": "execute_result",
          "data": {
            "text/plain": [
              "<matplotlib.image.AxesImage at 0x7fc3a1f50490>"
            ]
          },
          "metadata": {
            "tags": []
          },
          "execution_count": 58
        },
        {
          "output_type": "display_data",
          "data": {
            "image/png": "[encoded data removed]",
            "text/plain": [
              "<Figure size 432x288 with 1 Axes>"
            ]
          },
          "metadata": {
            "tags": [],
            "needs_background": "light"
          }
        }
      ]
    },
    {
      "cell_type": "code",
      "metadata": {
        "colab": {
          "base_uri": "https://localhost:8080/"
        },
        "id": "5JvHm3JdVKY1",
        "outputId": "c13d42a2-77f5-4ac7-d30b-da64de914c3d"
      },
      "source": [
        "pred = onelayer.predict(fin_valid_x[idx].reshape(-1, 64, 64, 1))\r\n",
        "pred"
      ],
      "execution_count": 59,
      "outputs": [
        {
          "output_type": "execute_result",
          "data": {
            "text/plain": [
              "array([[0.33483207, 0.33356777, 0.33159587, 0.00000062, 0.00000056,\n",
              "        0.00000056, 0.00000055, 0.00000052, 0.00000096, 0.00000056]],\n",
              "      dtype=float32)"
            ]
          },
          "metadata": {
            "tags": []
          },
          "execution_count": 59
        }
      ]
    },
    {
      "cell_type": "code",
      "metadata": {
        "colab": {
          "base_uri": "https://localhost:8080/"
        },
        "id": "nHuSY-7_WmfX",
        "outputId": "23a1674e-1ba7-40d9-f489-bb9aed8fe2ec"
      },
      "source": [
        "\"\"\"\r\n",
        "0: Healthy  1: Pre-existing Conditions  3:Effusion/Mass\r\n",
        "\"\"\"\r\n",
        "np.argmax(pred), y_valid_res[idx]"
      ],
      "execution_count": 61,
      "outputs": [
        {
          "output_type": "execute_result",
          "data": {
            "text/plain": [
              "(0, 1)"
            ]
          },
          "metadata": {
            "tags": []
          },
          "execution_count": 61
        }
      ]
    },
    {
      "cell_type": "code",
      "metadata": {
        "id": "C251KlWFPB6u"
      },
      "source": [
        "#Same Simple Fed-Forward neural network model with Dropout"
      ],
      "execution_count": 166,
      "outputs": []
    },
    {
      "cell_type": "code",
      "metadata": {
        "colab": {
          "base_uri": "https://localhost:8080/"
        },
        "id": "7ZcxU2qias73",
        "outputId": "96b8a735-8322-442e-c726-f875f715c1a9"
      },
      "source": [
        "\r\n",
        "onelayer = tf.keras.Sequential([\r\n",
        "                                        tf.keras.layers.Flatten(input_shape=(64, 64, 1)),\r\n",
        "                                        tf.keras.layers.Dropout(0.2),\r\n",
        "                                        tf.keras.layers.Dense(128, activation = 'relu'),\r\n",
        "                                        tf.keras.layers.Dense(10, activation = 'softmax')])\r\n",
        "\r\n",
        "\r\n",
        "onelayer.compile(optimizer = 'adam', \r\n",
        "                 loss = tf.keras.losses.SparseCategoricalCrossentropy(from_logits=False),\r\n",
        "                 metrics = ['accuracy'])\r\n",
        "\r\n",
        "onelayer.summary()"
      ],
      "execution_count": 62,
      "outputs": [
        {
          "output_type": "stream",
          "text": [
            "Model: \"sequential_1\"\n",
            "_________________________________________________________________\n",
            "Layer (type)                 Output Shape              Param #   \n",
            "=================================================================\n",
            "flatten_1 (Flatten)          (None, 4096)              0         \n",
            "_________________________________________________________________\n",
            "dropout (Dropout)            (None, 4096)              0         \n",
            "_________________________________________________________________\n",
            "dense_2 (Dense)              (None, 128)               524416    \n",
            "_________________________________________________________________\n",
            "dense_3 (Dense)              (None, 10)                1290      \n",
            "=================================================================\n",
            "Total params: 525,706\n",
            "Trainable params: 525,706\n",
            "Non-trainable params: 0\n",
            "_________________________________________________________________\n"
          ],
          "name": "stdout"
        }
      ]
    },
    {
      "cell_type": "code",
      "metadata": {
        "colab": {
          "base_uri": "https://localhost:8080/"
        },
        "id": "dCwQ426qbyQr",
        "outputId": "d4006d98-2318-4274-b2df-6e40f6767ef9"
      },
      "source": [
        "#Train\r\n",
        "history = onelayer.fit(fin_train_x, y_train_res, epochs=16, validation_data=(fin_valid_x, y_valid_res))"
      ],
      "execution_count": 66,
      "outputs": [
        {
          "output_type": "stream",
          "text": [
            "Epoch 1/16\n",
            "591/591 [==============================] - 4s 7ms/step - loss: 1.3079 - accuracy: 0.3333 - val_loss: 1.1560 - val_accuracy: 0.3333\n",
            "Epoch 2/16\n",
            "591/591 [==============================] - 4s 7ms/step - loss: 1.1232 - accuracy: 0.3333 - val_loss: 1.1066 - val_accuracy: 0.3333\n",
            "Epoch 3/16\n",
            "591/591 [==============================] - 4s 8ms/step - loss: 1.1031 - accuracy: 0.3333 - val_loss: 1.1013 - val_accuracy: 0.3333\n",
            "Epoch 4/16\n",
            "591/591 [==============================] - 4s 7ms/step - loss: 1.1008 - accuracy: 0.3323 - val_loss: 1.1004 - val_accuracy: 0.3333\n",
            "Epoch 5/16\n",
            "591/591 [==============================] - 4s 7ms/step - loss: 1.1002 - accuracy: 0.3315 - val_loss: 1.1000 - val_accuracy: 0.3333\n",
            "Epoch 6/16\n",
            "591/591 [==============================] - 4s 7ms/step - loss: 1.1104 - accuracy: 0.3285 - val_loss: 1.0996 - val_accuracy: 0.3333\n",
            "Epoch 7/16\n",
            "591/591 [==============================] - 4s 7ms/step - loss: 1.0996 - accuracy: 0.3301 - val_loss: 1.0994 - val_accuracy: 0.3333\n",
            "Epoch 8/16\n",
            "591/591 [==============================] - 4s 7ms/step - loss: 1.0994 - accuracy: 0.3340 - val_loss: 1.0992 - val_accuracy: 0.3333\n",
            "Epoch 9/16\n",
            "591/591 [==============================] - 4s 7ms/step - loss: 1.0992 - accuracy: 0.3346 - val_loss: 1.0992 - val_accuracy: 0.3333\n",
            "Epoch 10/16\n",
            "591/591 [==============================] - 4s 7ms/step - loss: 1.1091 - accuracy: 0.3292 - val_loss: 1.0990 - val_accuracy: 0.3333\n",
            "Epoch 11/16\n",
            "591/591 [==============================] - 4s 7ms/step - loss: 1.1079 - accuracy: 0.3289 - val_loss: 1.0989 - val_accuracy: 0.3333\n",
            "Epoch 12/16\n",
            "591/591 [==============================] - 4s 7ms/step - loss: 1.0990 - accuracy: 0.3283 - val_loss: 1.0989 - val_accuracy: 0.3333\n",
            "Epoch 13/16\n",
            "591/591 [==============================] - 4s 7ms/step - loss: 1.0989 - accuracy: 0.3350 - val_loss: 1.0988 - val_accuracy: 0.3333\n",
            "Epoch 14/16\n",
            "591/591 [==============================] - 4s 7ms/step - loss: 1.0989 - accuracy: 0.3278 - val_loss: 1.0988 - val_accuracy: 0.3333\n",
            "Epoch 15/16\n",
            "591/591 [==============================] - 4s 7ms/step - loss: 1.0989 - accuracy: 0.3313 - val_loss: 1.0988 - val_accuracy: 0.3333\n",
            "Epoch 16/16\n",
            "591/591 [==============================] - 4s 7ms/step - loss: 1.0988 - accuracy: 0.3333 - val_loss: 1.0987 - val_accuracy: 0.3333\n"
          ],
          "name": "stdout"
        }
      ]
    },
    {
      "cell_type": "code",
      "metadata": {
        "colab": {
          "base_uri": "https://localhost:8080/",
          "height": 499
        },
        "id": "rdI_Inxgbj-V",
        "outputId": "16ea931e-6cf3-4e4e-e88f-535e9e49724a"
      },
      "source": [
        "#Plotting accuracy & loss\r\n",
        "acc = history.history['accuracy']\r\n",
        "val_acc = history.history['val_accuracy']\r\n",
        "\r\n",
        "loss = history.history['loss']\r\n",
        "val_loss = history.history['val_loss']\r\n",
        "\r\n",
        "epochs_range = range(16)\r\n",
        "\r\n",
        "plt.figure(figsize=(8, 8))\r\n",
        "plt.subplot(1, 2, 1)\r\n",
        "plt.plot(epochs_range, acc, label='Training Accuracy')\r\n",
        "plt.plot(epochs_range, val_acc, label='Validation Accuracy')\r\n",
        "plt.legend(loc='lower right')\r\n",
        "plt.title('Training and Validation Accuracy')\r\n",
        "\r\n",
        "plt.subplot(1, 2, 2)\r\n",
        "plt.plot(epochs_range, loss, label='Training Loss')\r\n",
        "plt.plot(epochs_range, val_loss, label='Validation Loss')\r\n",
        "plt.legend(loc='upper right')\r\n",
        "plt.title('Training and Validation Loss')\r\n",
        "plt.show()"
      ],
      "execution_count": 67,
      "outputs": [
        {
          "output_type": "display_data",
          "data": {
            "image/png": "[encoded data removed]",
            "text/plain": [
              "<Figure size 576x576 with 2 Axes>"
            ]
          },
          "metadata": {
            "tags": [],
            "needs_background": "light"
          }
        }
      ]
    },
    {
      "cell_type": "code",
      "metadata": {
        "id": "WC7mWjQ0OzwS"
      },
      "source": [
        "#Random test on a validation datapoint"
      ],
      "execution_count": 164,
      "outputs": []
    },
    {
      "cell_type": "code",
      "metadata": {
        "colab": {
          "base_uri": "https://localhost:8080/",
          "height": 285
        },
        "id": "wN5wHRVrdPA3",
        "outputId": "d3c7cc4a-c082-445b-95ab-1e835a99fe78"
      },
      "source": [
        "idx = 56\r\n",
        "plt.imshow(fin_valid_x[idx].squeeze())"
      ],
      "execution_count": 68,
      "outputs": [
        {
          "output_type": "execute_result",
          "data": {
            "text/plain": [
              "<matplotlib.image.AxesImage at 0x7fc3a0d63350>"
            ]
          },
          "metadata": {
            "tags": []
          },
          "execution_count": 68
        },
        {
          "output_type": "display_data",
          "data": {
            "image/png": "[encoded data removed]",
            "text/plain": [
              "<Figure size 432x288 with 1 Axes>"
            ]
          },
          "metadata": {
            "tags": [],
            "needs_background": "light"
          }
        }
      ]
    },
    {
      "cell_type": "code",
      "metadata": {
        "colab": {
          "base_uri": "https://localhost:8080/"
        },
        "id": "j5jpy-nsdRYC",
        "outputId": "4d056180-3a56-4780-8a76-b482ea590a02"
      },
      "source": [
        "pred = onelayer.predict(fin_valid_x[idx].reshape(-1, 64, 64, 1))\r\n",
        "pred"
      ],
      "execution_count": 69,
      "outputs": [
        {
          "output_type": "execute_result",
          "data": {
            "text/plain": [
              "array([[0.33145094, 0.3325985 , 0.33583125, 0.00001584, 0.00001101,\n",
              "        0.00001517, 0.00000823, 0.00001147, 0.00004522, 0.00001246]],\n",
              "      dtype=float32)"
            ]
          },
          "metadata": {
            "tags": []
          },
          "execution_count": 69
        }
      ]
    },
    {
      "cell_type": "code",
      "metadata": {
        "colab": {
          "base_uri": "https://localhost:8080/"
        },
        "id": "v4yX6R_CdRa1",
        "outputId": "1f8b4ba5-ded6-4f9f-a8af-a1f661d23ba5"
      },
      "source": [
        "\"\"\"\r\n",
        "0: Healthy  1: Pre-existing Conditions  3:Effusion/Mass\r\n",
        "\"\"\"\r\n",
        "np.argmax(pred), y_valid_res[idx]"
      ],
      "execution_count": 70,
      "outputs": [
        {
          "output_type": "execute_result",
          "data": {
            "text/plain": [
              "(2, 1)"
            ]
          },
          "metadata": {
            "tags": []
          },
          "execution_count": 70
        }
      ]
    },
    {
      "cell_type": "code",
      "metadata": {
        "id": "HtewN-hUmg8Z"
      },
      "source": [
        ""
      ],
      "execution_count": null,
      "outputs": []
    },
    {
      "cell_type": "code",
      "metadata": {
        "id": "xUMEnW0Umj5z"
      },
      "source": [
        "#LeNet5 model without Drop out layer"
      ],
      "execution_count": 131,
      "outputs": []
    },
    {
      "cell_type": "code",
      "metadata": {
        "colab": {
          "base_uri": "https://localhost:8080/"
        },
        "id": "4bVEctdIm0pO",
        "outputId": "387745db-0b82-4034-c3b0-9947ed190522"
      },
      "source": [
        "lenet5 = tf.keras.Sequential([\r\n",
        "                              #1st Convolution\r\n",
        "                              tf.keras.layers.Conv2D(\r\n",
        "                                  filters = 20, kernel_size= (5,5), activation= 'relu', input_shape = (64,64,1)),\r\n",
        "                              tf.keras.layers.MaxPool2D(pool_size=(2,2), strides=None, padding='valid'),\r\n",
        "                              #2nd Convolution\r\n",
        "                              tf.keras.layers.Conv2D(filters=50, kernel_size=(5,5), activation='relu'),\r\n",
        "                              tf.keras.layers.MaxPool2D(pool_size=(2,2), strides=None, padding='valid'),\r\n",
        "                              #Dense\r\n",
        "                              tf.keras.layers.Flatten(),\r\n",
        "                              tf.keras.layers.Dense(500, activation= 'relu'),\r\n",
        "                              tf.keras.layers.Dense(10, activation= 'softmax')\r\n",
        "                        \r\n",
        "])\r\n",
        "\r\n",
        "lenet5.compile(optimizer= 'adam', loss= tf.keras.losses.SparseCategoricalCrossentropy(from_logits=False), metrics=['accuracy'])\r\n",
        "\r\n",
        "lenet5.summary()"
      ],
      "execution_count": 71,
      "outputs": [
        {
          "output_type": "stream",
          "text": [
            "Model: \"sequential_2\"\n",
            "_________________________________________________________________\n",
            "Layer (type)                 Output Shape              Param #   \n",
            "=================================================================\n",
            "conv2d (Conv2D)              (None, 60, 60, 20)        520       \n",
            "_________________________________________________________________\n",
            "max_pooling2d (MaxPooling2D) (None, 30, 30, 20)        0         \n",
            "_________________________________________________________________\n",
            "conv2d_1 (Conv2D)            (None, 26, 26, 50)        25050     \n",
            "_________________________________________________________________\n",
            "max_pooling2d_1 (MaxPooling2 (None, 13, 13, 50)        0         \n",
            "_________________________________________________________________\n",
            "flatten_2 (Flatten)          (None, 8450)              0         \n",
            "_________________________________________________________________\n",
            "dense_4 (Dense)              (None, 500)               4225500   \n",
            "_________________________________________________________________\n",
            "dense_5 (Dense)              (None, 10)                5010      \n",
            "=================================================================\n",
            "Total params: 4,256,080\n",
            "Trainable params: 4,256,080\n",
            "Non-trainable params: 0\n",
            "_________________________________________________________________\n"
          ],
          "name": "stdout"
        }
      ]
    },
    {
      "cell_type": "code",
      "metadata": {
        "colab": {
          "base_uri": "https://localhost:8080/"
        },
        "id": "0bPGwBeDm0r3",
        "outputId": "867f226e-9f97-4a77-a17c-55f33b88be95"
      },
      "source": [
        "#Train\r\n",
        "history = lenet5.fit(fin_train_x, y_train_res, epochs=20, validation_data=(fin_valid_x, y_valid_res), callbacks=[callback1])"
      ],
      "execution_count": 72,
      "outputs": [
        {
          "output_type": "stream",
          "text": [
            "Epoch 1/20\n",
            "591/591 [==============================] - 126s 213ms/step - loss: 4.9903 - accuracy: 0.5691 - val_loss: 0.7266 - val_accuracy: 0.6460\n",
            "Epoch 2/20\n",
            "591/591 [==============================] - 125s 212ms/step - loss: 0.5457 - accuracy: 0.7604 - val_loss: 0.9381 - val_accuracy: 0.6503\n",
            "Epoch 3/20\n",
            "591/591 [==============================] - 124s 209ms/step - loss: 0.3584 - accuracy: 0.8549 - val_loss: 0.9928 - val_accuracy: 0.6632\n"
          ],
          "name": "stdout"
        }
      ]
    },
    {
      "cell_type": "code",
      "metadata": {
        "colab": {
          "base_uri": "https://localhost:8080/",
          "height": 499
        },
        "id": "omQUEzz4m0uZ",
        "outputId": "8008a6ca-3d00-48c8-9c6f-39db12f0cf23"
      },
      "source": [
        "#Plotting accuracy & loss\r\n",
        "acc = history.history['accuracy']\r\n",
        "val_acc = history.history['val_accuracy']\r\n",
        "\r\n",
        "loss = history.history['loss']\r\n",
        "val_loss = history.history['val_loss']\r\n",
        "\r\n",
        "epochs_range = range(3)\r\n",
        "\r\n",
        "plt.figure(figsize=(8, 8))\r\n",
        "plt.subplot(1, 2, 1)\r\n",
        "plt.plot(epochs_range, acc, label='Training Accuracy')\r\n",
        "plt.plot(epochs_range, val_acc, label='Validation Accuracy')\r\n",
        "plt.legend(loc='lower right')\r\n",
        "plt.title('Training and Validation Accuracy')\r\n",
        "\r\n",
        "plt.subplot(1, 2, 2)\r\n",
        "plt.plot(epochs_range, loss, label='Training Loss')\r\n",
        "plt.plot(epochs_range, val_loss, label='Validation Loss')\r\n",
        "plt.legend(loc='upper right')\r\n",
        "plt.title('Training and Validation Loss')\r\n",
        "plt.show()"
      ],
      "execution_count": 73,
      "outputs": [
        {
          "output_type": "display_data",
          "data": {
            "image/png": "[encoded data removed]",
            "text/plain": [
              "<Figure size 576x576 with 2 Axes>"
            ]
          },
          "metadata": {
            "tags": [],
            "needs_background": "light"
          }
        }
      ]
    },
    {
      "cell_type": "code",
      "metadata": {
        "id": "LRQohOGKOlyx"
      },
      "source": [
        "#LeNet5 model with Drop out layer & an additional Convolution layer"
      ],
      "execution_count": 163,
      "outputs": []
    },
    {
      "cell_type": "code",
      "metadata": {
        "colab": {
          "base_uri": "https://localhost:8080/"
        },
        "id": "y1qgRQHctf2R",
        "outputId": "5b036c49-a54d-45c9-b80b-4700a99aa1f9"
      },
      "source": [
        "lenet5D = tf.keras.Sequential([\r\n",
        "                              #1st Convolution\r\n",
        "                              tf.keras.layers.Conv2D(\r\n",
        "                                  filters = 20, kernel_size= (5,5), activation= 'relu', input_shape = (64,64,1)),\r\n",
        "                              tf.keras.layers.MaxPool2D(pool_size=(2,2), strides=None, padding='valid'),\r\n",
        "                              #2nd Convolution\r\n",
        "                              tf.keras.layers.Conv2D(filters=50, kernel_size=(5,5), activation='relu'),\r\n",
        "                              tf.keras.layers.MaxPool2D(pool_size=(2,2), strides=None, padding='valid'),\r\n",
        "                              #3rd Convolution\r\n",
        "                              tf.keras.layers.Conv2D(filters=100, kernel_size=(5,5), activation='relu'),\r\n",
        "                              tf.keras.layers.MaxPool2D(pool_size=(2,2), strides=None, padding='valid'),\r\n",
        "                              #Dropout\r\n",
        "                              tf.keras.layers.Dropout(0.2),\r\n",
        "                              #Dense\r\n",
        "                              tf.keras.layers.Flatten(),\r\n",
        "                              tf.keras.layers.Dense(500, activation= 'relu'),\r\n",
        "                              tf.keras.layers.Dense(10, activation= 'softmax')\r\n",
        "                        \r\n",
        "])\r\n",
        "\r\n",
        "lenet5D.compile(optimizer= 'adam', loss= tf.keras.losses.SparseCategoricalCrossentropy(from_logits=False), metrics=['accuracy'])\r\n",
        "\r\n",
        "lenet5D.summary()"
      ],
      "execution_count": 74,
      "outputs": [
        {
          "output_type": "stream",
          "text": [
            "Model: \"sequential_3\"\n",
            "_________________________________________________________________\n",
            "Layer (type)                 Output Shape              Param #   \n",
            "=================================================================\n",
            "conv2d_2 (Conv2D)            (None, 60, 60, 20)        520       \n",
            "_________________________________________________________________\n",
            "max_pooling2d_2 (MaxPooling2 (None, 30, 30, 20)        0         \n",
            "_________________________________________________________________\n",
            "conv2d_3 (Conv2D)            (None, 26, 26, 50)        25050     \n",
            "_________________________________________________________________\n",
            "max_pooling2d_3 (MaxPooling2 (None, 13, 13, 50)        0         \n",
            "_________________________________________________________________\n",
            "conv2d_4 (Conv2D)            (None, 9, 9, 100)         125100    \n",
            "_________________________________________________________________\n",
            "max_pooling2d_4 (MaxPooling2 (None, 4, 4, 100)         0         \n",
            "_________________________________________________________________\n",
            "dropout_1 (Dropout)          (None, 4, 4, 100)         0         \n",
            "_________________________________________________________________\n",
            "flatten_3 (Flatten)          (None, 1600)              0         \n",
            "_________________________________________________________________\n",
            "dense_6 (Dense)              (None, 500)               800500    \n",
            "_________________________________________________________________\n",
            "dense_7 (Dense)              (None, 10)                5010      \n",
            "=================================================================\n",
            "Total params: 956,180\n",
            "Trainable params: 956,180\n",
            "Non-trainable params: 0\n",
            "_________________________________________________________________\n"
          ],
          "name": "stdout"
        }
      ]
    },
    {
      "cell_type": "code",
      "metadata": {
        "colab": {
          "base_uri": "https://localhost:8080/"
        },
        "id": "GBziJQxWtf5m",
        "outputId": "6f86dc8f-540c-4422-86a1-65aa70471304"
      },
      "source": [
        "#Train\r\n",
        "history = lenet5D.fit(fin_train_x, y_train_res, epochs=7, validation_data=(fin_valid_x, y_valid_res),callbacks=[callback1])"
      ],
      "execution_count": 75,
      "outputs": [
        {
          "output_type": "stream",
          "text": [
            "Epoch 1/7\n",
            "591/591 [==============================] - 144s 243ms/step - loss: 3.5232 - accuracy: 0.5146 - val_loss: 0.7036 - val_accuracy: 0.6297\n",
            "Epoch 2/7\n",
            "591/591 [==============================] - 148s 251ms/step - loss: 0.6839 - accuracy: 0.6535 - val_loss: 0.6675 - val_accuracy: 0.6695\n",
            "Epoch 3/7\n",
            "591/591 [==============================] - 140s 238ms/step - loss: 0.5948 - accuracy: 0.7155 - val_loss: 0.6125 - val_accuracy: 0.6917\n",
            "Epoch 4/7\n",
            "591/591 [==============================] - 141s 238ms/step - loss: 0.5435 - accuracy: 0.7381 - val_loss: 0.6170 - val_accuracy: 0.6919\n",
            "Epoch 5/7\n",
            "591/591 [==============================] - 155s 263ms/step - loss: 0.4943 - accuracy: 0.7722 - val_loss: 0.6864 - val_accuracy: 0.6875\n"
          ],
          "name": "stdout"
        }
      ]
    },
    {
      "cell_type": "code",
      "metadata": {
        "colab": {
          "base_uri": "https://localhost:8080/",
          "height": 499
        },
        "id": "RCOQ15gbtf8x",
        "outputId": "764ec5e8-cff0-482a-cbe7-fd11dd0c3301"
      },
      "source": [
        "#Plotting accuracy & loss\r\n",
        "acc = history.history['accuracy']\r\n",
        "val_acc = history.history['val_accuracy']\r\n",
        "\r\n",
        "loss = history.history['loss']\r\n",
        "val_loss = history.history['val_loss']\r\n",
        "\r\n",
        "epochs_range = range(5)\r\n",
        "\r\n",
        "plt.figure(figsize=(8, 8))\r\n",
        "plt.subplot(1, 2, 1)\r\n",
        "plt.plot(epochs_range, acc, label='Training Accuracy')\r\n",
        "plt.plot(epochs_range, val_acc, label='Validation Accuracy')\r\n",
        "plt.legend(loc='lower right')\r\n",
        "plt.title('Training and Validation Accuracy')\r\n",
        "\r\n",
        "plt.subplot(1, 2, 2)\r\n",
        "plt.plot(epochs_range, loss, label='Training Loss')\r\n",
        "plt.plot(epochs_range, val_loss, label='Validation Loss')\r\n",
        "plt.legend(loc='upper right')\r\n",
        "plt.title('Training and Validation Loss')\r\n",
        "plt.show()"
      ],
      "execution_count": 76,
      "outputs": [
        {
          "output_type": "display_data",
          "data": {
            "image/png": "[encoded data removed]",
            "text/plain": [
              "<Figure size 576x576 with 2 Axes>"
            ]
          },
          "metadata": {
            "tags": [],
            "needs_background": "light"
          }
        }
      ]
    },
    {
      "cell_type": "code",
      "metadata": {
        "id": "VcQsmE-3Obmd"
      },
      "source": [
        "#Random test on a validation datapoint"
      ],
      "execution_count": null,
      "outputs": []
    },
    {
      "cell_type": "code",
      "metadata": {
        "colab": {
          "base_uri": "https://localhost:8080/",
          "height": 285
        },
        "id": "dyNxGJzttgJK",
        "outputId": "69a0cdaf-2d2d-43a3-9694-448fa2fdd53e"
      },
      "source": [
        "idx = 56\r\n",
        "plt.imshow(fin_valid_x[idx].squeeze())"
      ],
      "execution_count": 77,
      "outputs": [
        {
          "output_type": "execute_result",
          "data": {
            "text/plain": [
              "<matplotlib.image.AxesImage at 0x7fc39b6375d0>"
            ]
          },
          "metadata": {
            "tags": []
          },
          "execution_count": 77
        },
        {
          "output_type": "display_data",
          "data": {
            "image/png": "[encoded data removed]",
            "text/plain": [
              "<Figure size 432x288 with 1 Axes>"
            ]
          },
          "metadata": {
            "tags": [],
            "needs_background": "light"
          }
        }
      ]
    },
    {
      "cell_type": "code",
      "metadata": {
        "colab": {
          "base_uri": "https://localhost:8080/"
        },
        "id": "wXf4CKs58xcm",
        "outputId": "5c7401b6-606c-4923-8583-5b553a28a885"
      },
      "source": [
        "pred = lenet5D.predict(fin_valid_x[idx].reshape(-1, 64, 64, 1))\r\n",
        "pred"
      ],
      "execution_count": 78,
      "outputs": [
        {
          "output_type": "execute_result",
          "data": {
            "text/plain": [
              "array([[0.88580024, 0.11370473, 0.00049502, 0.        , 0.        ,\n",
              "        0.        , 0.        , 0.        , 0.        , 0.        ]],\n",
              "      dtype=float32)"
            ]
          },
          "metadata": {
            "tags": []
          },
          "execution_count": 78
        }
      ]
    },
    {
      "cell_type": "code",
      "metadata": {
        "colab": {
          "base_uri": "https://localhost:8080/"
        },
        "id": "pWYMgjvym00f",
        "outputId": "4c026ee5-9d51-43d2-ccf3-30c6f3d964dd"
      },
      "source": [
        "\"\"\"\r\n",
        "0: Healthy  1: Pre-existing Conditions  3:Effusion/Mass\r\n",
        "\"\"\"\r\n",
        "np.argmax(pred), y_valid_res[idx]"
      ],
      "execution_count": 79,
      "outputs": [
        {
          "output_type": "execute_result",
          "data": {
            "text/plain": [
              "(0, 1)"
            ]
          },
          "metadata": {
            "tags": []
          },
          "execution_count": 79
        }
      ]
    },
    {
      "cell_type": "code",
      "metadata": {
        "id": "trZ0qBsMtgAL"
      },
      "source": [
        "#VGG model without data augmentation layer"
      ],
      "execution_count": 115,
      "outputs": []
    },
    {
      "cell_type": "code",
      "metadata": {
        "colab": {
          "base_uri": "https://localhost:8080/"
        },
        "id": "eR2ze86wm03A",
        "outputId": "37259b04-ec51-4567-b288-5ba23de6889f"
      },
      "source": [
        "vgg = tf.keras.Sequential([\r\n",
        "                           tf.keras.layers.Conv2D(64, (3,3),strides = 1, padding = 'same', activation = 'relu', input_shape=(64, 64, 1)),\r\n",
        "                           tf.keras.layers.Conv2D(64, (3,3),strides = 1, padding = 'same', activation = 'relu'),\r\n",
        "                           tf.keras.layers.MaxPool2D(pool_size =(2,2), strides= None, padding= 'valid'),\r\n",
        "\r\n",
        "                           tf.keras.layers.Conv2D(128, (3,3),strides = 1, padding = 'same', activation = 'relu'),\r\n",
        "                           tf.keras.layers.Conv2D(128, (3,3),strides = 1, padding = 'same', activation = 'relu'),\r\n",
        "                           tf.keras.layers.MaxPool2D(pool_size =(2,2), strides= None, padding= 'valid'),\r\n",
        "\r\n",
        "                           tf.keras.layers.Conv2D(256, (3,3),strides = 1, padding = 'same', activation = 'relu'),\r\n",
        "                           tf.keras.layers.Conv2D(256, (3,3),strides = 1, padding = 'same', activation = 'relu'),\r\n",
        "                           tf.keras.layers.Dropout(0.4),\r\n",
        "                           tf.keras.layers.MaxPool2D(pool_size =(2,2), strides= None, padding= 'valid'),\r\n",
        "\r\n",
        "                           tf.keras.layers.Flatten(),\r\n",
        "                           tf.keras.layers.Dense(512, activation= 'relu'),\r\n",
        "                           tf.keras.layers.Dense(10, activation= 'softmax')\r\n",
        "])\r\n",
        "\r\n",
        "vgg.compile(optimizer = 'adam', loss= tf.keras.losses.SparseCategoricalCrossentropy(from_logits = False),metrics=['accuracy'])\r\n",
        "\r\n",
        "vgg.summary()"
      ],
      "execution_count": 100,
      "outputs": [
        {
          "output_type": "stream",
          "text": [
            "Model: \"sequential_4\"\n",
            "_________________________________________________________________\n",
            "Layer (type)                 Output Shape              Param #   \n",
            "=================================================================\n",
            "conv2d_5 (Conv2D)            (None, 64, 64, 64)        640       \n",
            "_________________________________________________________________\n",
            "conv2d_6 (Conv2D)            (None, 64, 64, 64)        36928     \n",
            "_________________________________________________________________\n",
            "max_pooling2d_5 (MaxPooling2 (None, 32, 32, 64)        0         \n",
            "_________________________________________________________________\n",
            "conv2d_7 (Conv2D)            (None, 32, 32, 128)       73856     \n",
            "_________________________________________________________________\n",
            "conv2d_8 (Conv2D)            (None, 32, 32, 128)       147584    \n",
            "_________________________________________________________________\n",
            "max_pooling2d_6 (MaxPooling2 (None, 16, 16, 128)       0         \n",
            "_________________________________________________________________\n",
            "conv2d_9 (Conv2D)            (None, 16, 16, 256)       295168    \n",
            "_________________________________________________________________\n",
            "conv2d_10 (Conv2D)           (None, 16, 16, 256)       590080    \n",
            "_________________________________________________________________\n",
            "dropout_2 (Dropout)          (None, 16, 16, 256)       0         \n",
            "_________________________________________________________________\n",
            "max_pooling2d_7 (MaxPooling2 (None, 8, 8, 256)         0         \n",
            "_________________________________________________________________\n",
            "flatten_4 (Flatten)          (None, 16384)             0         \n",
            "_________________________________________________________________\n",
            "dense_8 (Dense)              (None, 512)               8389120   \n",
            "_________________________________________________________________\n",
            "dense_9 (Dense)              (None, 10)                5130      \n",
            "=================================================================\n",
            "Total params: 9,538,506\n",
            "Trainable params: 9,538,506\n",
            "Non-trainable params: 0\n",
            "_________________________________________________________________\n"
          ],
          "name": "stdout"
        }
      ]
    },
    {
      "cell_type": "code",
      "metadata": {
        "colab": {
          "base_uri": "https://localhost:8080/"
        },
        "id": "5mciT72DAm8R",
        "outputId": "50bcab5f-d45e-4649-a3c3-74a7afcdc35f"
      },
      "source": [
        "#Train\r\n",
        "history = vgg.fit(fin_train_x, y_train_res, epochs=20, validation_data=(fin_valid_x, y_valid_res), callbacks=[callback1])"
      ],
      "execution_count": 101,
      "outputs": [
        {
          "output_type": "stream",
          "text": [
            "Epoch 1/20\n",
            "591/591 [==============================] - 1644s 3s/step - loss: 3.8957 - accuracy: 0.5522 - val_loss: 0.6294 - val_accuracy: 0.6611\n",
            "Epoch 2/20\n",
            "591/591 [==============================] - 1642s 3s/step - loss: 0.6169 - accuracy: 0.6815 - val_loss: 0.5978 - val_accuracy: 0.6746\n",
            "Epoch 3/20\n",
            "591/591 [==============================] - 1691s 3s/step - loss: 0.5612 - accuracy: 0.7238 - val_loss: 0.5961 - val_accuracy: 0.7147\n",
            "Epoch 4/20\n",
            "591/591 [==============================] - 1636s 3s/step - loss: 0.4878 - accuracy: 0.7781 - val_loss: 0.6297 - val_accuracy: 0.6979\n",
            "Epoch 5/20\n",
            "591/591 [==============================] - 1646s 3s/step - loss: 0.4236 - accuracy: 0.8119 - val_loss: 0.5966 - val_accuracy: 0.7138\n"
          ],
          "name": "stdout"
        }
      ]
    },
    {
      "cell_type": "code",
      "metadata": {
        "colab": {
          "base_uri": "https://localhost:8080/",
          "height": 499
        },
        "id": "vbYOGDhkAm_h",
        "outputId": "891b8dcf-0907-43bd-90d1-70fda40cbcbc"
      },
      "source": [
        "#Plotting accuracy & loss\r\n",
        "acc = history.history['accuracy']\r\n",
        "val_acc = history.history['val_accuracy']\r\n",
        "\r\n",
        "loss = history.history['loss']\r\n",
        "val_loss = history.history['val_loss']\r\n",
        "\r\n",
        "epochs_range = range(5)\r\n",
        "\r\n",
        "plt.figure(figsize=(8, 8))\r\n",
        "plt.subplot(1, 2, 1)\r\n",
        "plt.plot(epochs_range, acc, label='Training Accuracy')\r\n",
        "plt.plot(epochs_range, val_acc, label='Validation Accuracy')\r\n",
        "plt.legend(loc='lower right')\r\n",
        "plt.title('Training and Validation Accuracy')\r\n",
        "\r\n",
        "plt.subplot(1, 2, 2)\r\n",
        "plt.plot(epochs_range, loss, label='Training Loss')\r\n",
        "plt.plot(epochs_range, val_loss, label='Validation Loss')\r\n",
        "plt.legend(loc='upper right')\r\n",
        "plt.title('Training and Validation Loss')\r\n",
        "plt.show()"
      ],
      "execution_count": 102,
      "outputs": [
        {
          "output_type": "display_data",
          "data": {
            "image/png": "[encoded data removed]",
            "text/plain": [
              "<Figure size 576x576 with 2 Axes>"
            ]
          },
          "metadata": {
            "tags": [],
            "needs_background": "light"
          }
        }
      ]
    },
    {
      "cell_type": "code",
      "metadata": {
        "id": "Hl5ldBk5OJn2"
      },
      "source": [
        "#Random test on a validation datapoint"
      ],
      "execution_count": null,
      "outputs": []
    },
    {
      "cell_type": "code",
      "metadata": {
        "colab": {
          "base_uri": "https://localhost:8080/",
          "height": 285
        },
        "id": "Mg6X9OfHFm_5",
        "outputId": "3bb78f7f-926a-4a96-8332-e881c3a299f6"
      },
      "source": [
        "idx = 56\r\n",
        "plt.imshow(fin_valid_x[idx].squeeze())"
      ],
      "execution_count": 103,
      "outputs": [
        {
          "output_type": "execute_result",
          "data": {
            "text/plain": [
              "<matplotlib.image.AxesImage at 0x7fc3a1f9ba90>"
            ]
          },
          "metadata": {
            "tags": []
          },
          "execution_count": 103
        },
        {
          "output_type": "display_data",
          "data": {
            "image/png": "[encoded data removed]",
            "text/plain": [
              "<Figure size 432x288 with 1 Axes>"
            ]
          },
          "metadata": {
            "tags": [],
            "needs_background": "light"
          }
        }
      ]
    },
    {
      "cell_type": "code",
      "metadata": {
        "colab": {
          "base_uri": "https://localhost:8080/"
        },
        "id": "fEn1xhosAnFZ",
        "outputId": "fc241ff6-07c0-4e33-86a3-6e51490e2535"
      },
      "source": [
        "pred = vgg.predict(fin_valid_x[idx].reshape(-1, 64, 64, 1))\r\n",
        "pred"
      ],
      "execution_count": 104,
      "outputs": [
        {
          "output_type": "execute_result",
          "data": {
            "text/plain": [
              "array([[0.15333258, 0.8171858 , 0.02948156, 0.        , 0.00000001,\n",
              "        0.00000001, 0.00000001, 0.00000001, 0.00000001, 0.00000002]],\n",
              "      dtype=float32)"
            ]
          },
          "metadata": {
            "tags": []
          },
          "execution_count": 104
        }
      ]
    },
    {
      "cell_type": "code",
      "metadata": {
        "colab": {
          "base_uri": "https://localhost:8080/"
        },
        "id": "vb5JYFelAnJr",
        "outputId": "fd896a3d-c81b-4da5-b17a-a5a6ffb96ec4"
      },
      "source": [
        "\"\"\"\r\n",
        "0: Healthy  1: Pre-existing Conditions  3:Effusion/Mass\r\n",
        "\"\"\"\r\n",
        "np.argmax(pred), y_valid_res[idx]"
      ],
      "execution_count": 105,
      "outputs": [
        {
          "output_type": "execute_result",
          "data": {
            "text/plain": [
              "(1, 1)"
            ]
          },
          "metadata": {
            "tags": []
          },
          "execution_count": 105
        }
      ]
    },
    {
      "cell_type": "code",
      "metadata": {
        "id": "W97146tPm06K"
      },
      "source": [
        "#VGG model with data augmentation layer"
      ],
      "execution_count": 116,
      "outputs": []
    },
    {
      "cell_type": "code",
      "metadata": {
        "id": "3aCc3W_9Cd-J"
      },
      "source": [
        "data_augmentation = tf.keras.Sequential([\r\n",
        "                                         tf.keras.layers.experimental.preprocessing.RandomFlip(\"horizontal\", input_shape =(64 , 64, 1)),\r\n",
        "                                         tf.keras.layers.experimental.preprocessing.RandomRotation(0.1),\r\n",
        "                                         tf.keras.layers.experimental.preprocessing.RandomZoom(0.1)\r\n",
        "                                         \r\n",
        "])"
      ],
      "execution_count": 120,
      "outputs": []
    },
    {
      "cell_type": "code",
      "metadata": {
        "colab": {
          "base_uri": "https://localhost:8080/"
        },
        "id": "QWkJDRkDGZp-",
        "outputId": "c4dad8e7-5e3f-42c3-dd18-cfd874b88159"
      },
      "source": [
        "vggA = tf.keras.Sequential([\r\n",
        "                            data_augmentation,\r\n",
        "                           tf.keras.layers.Conv2D(64, (3,3),strides = 1, padding = 'same', activation = 'relu'),\r\n",
        "                           tf.keras.layers.Conv2D(64, (3,3),strides = 1, padding = 'same', activation = 'relu'),\r\n",
        "                           tf.keras.layers.MaxPool2D(pool_size =(2,2), strides= None, padding= 'valid'),\r\n",
        "\r\n",
        "                           tf.keras.layers.Conv2D(128, (3,3),strides = 1, padding = 'same', activation = 'relu'),\r\n",
        "                           tf.keras.layers.Conv2D(128, (3,3),strides = 1, padding = 'same', activation = 'relu'),\r\n",
        "                           tf.keras.layers.MaxPool2D(pool_size =(2,2), strides= None, padding= 'valid'),\r\n",
        "\r\n",
        "                           tf.keras.layers.Conv2D(256, (3,3),strides = 1, padding = 'same', activation = 'relu'),\r\n",
        "                           tf.keras.layers.Conv2D(256, (3,3),strides = 1, padding = 'same', activation = 'relu'),\r\n",
        "                           tf.keras.layers.Dropout(0.4),\r\n",
        "                           tf.keras.layers.MaxPool2D(pool_size =(2,2), strides= None, padding= 'valid'),\r\n",
        "\r\n",
        "                           tf.keras.layers.Flatten(),\r\n",
        "                           tf.keras.layers.Dense(512, activation= 'relu'),\r\n",
        "                           tf.keras.layers.Dense(10, activation= 'softmax')\r\n",
        "])\r\n",
        "\r\n",
        "vggA.compile(optimizer = 'adam', loss= tf.keras.losses.SparseCategoricalCrossentropy(from_logits = False),metrics=['accuracy'])\r\n",
        "\r\n",
        "vggA.summary()"
      ],
      "execution_count": 123,
      "outputs": [
        {
          "output_type": "stream",
          "text": [
            "Model: \"sequential_9\"\n",
            "_________________________________________________________________\n",
            "Layer (type)                 Output Shape              Param #   \n",
            "=================================================================\n",
            "sequential_7 (Sequential)    (None, 64, 64, 1)         0         \n",
            "_________________________________________________________________\n",
            "conv2d_23 (Conv2D)           (None, 64, 64, 64)        640       \n",
            "_________________________________________________________________\n",
            "conv2d_24 (Conv2D)           (None, 64, 64, 64)        36928     \n",
            "_________________________________________________________________\n",
            "max_pooling2d_14 (MaxPooling (None, 32, 32, 64)        0         \n",
            "_________________________________________________________________\n",
            "conv2d_25 (Conv2D)           (None, 32, 32, 128)       73856     \n",
            "_________________________________________________________________\n",
            "conv2d_26 (Conv2D)           (None, 32, 32, 128)       147584    \n",
            "_________________________________________________________________\n",
            "max_pooling2d_15 (MaxPooling (None, 16, 16, 128)       0         \n",
            "_________________________________________________________________\n",
            "conv2d_27 (Conv2D)           (None, 16, 16, 256)       295168    \n",
            "_________________________________________________________________\n",
            "conv2d_28 (Conv2D)           (None, 16, 16, 256)       590080    \n",
            "_________________________________________________________________\n",
            "dropout_5 (Dropout)          (None, 16, 16, 256)       0         \n",
            "_________________________________________________________________\n",
            "max_pooling2d_16 (MaxPooling (None, 8, 8, 256)         0         \n",
            "_________________________________________________________________\n",
            "flatten_7 (Flatten)          (None, 16384)             0         \n",
            "_________________________________________________________________\n",
            "dense_14 (Dense)             (None, 512)               8389120   \n",
            "_________________________________________________________________\n",
            "dense_15 (Dense)             (None, 10)                5130      \n",
            "=================================================================\n",
            "Total params: 9,538,506\n",
            "Trainable params: 9,538,506\n",
            "Non-trainable params: 0\n",
            "_________________________________________________________________\n"
          ],
          "name": "stdout"
        }
      ]
    },
    {
      "cell_type": "code",
      "metadata": {
        "colab": {
          "base_uri": "https://localhost:8080/"
        },
        "id": "PLOj5IO8GZ8W",
        "outputId": "6c4b5070-4f99-4d13-984c-7cddaa87f017"
      },
      "source": [
        "#Train\r\n",
        "history = vggA.fit(fin_train_x, y_train_res, epochs=20, validation_data=(fin_valid_x, y_valid_res), callbacks=[callback1])"
      ],
      "execution_count": 124,
      "outputs": [
        {
          "output_type": "stream",
          "text": [
            "Epoch 1/20\n",
            "591/591 [==============================] - 1648s 3s/step - loss: 3.8660 - accuracy: 0.4967 - val_loss: 0.8048 - val_accuracy: 0.6000\n",
            "Epoch 2/20\n",
            "591/591 [==============================] - 1673s 3s/step - loss: 0.7677 - accuracy: 0.6041 - val_loss: 0.7407 - val_accuracy: 0.5932\n",
            "Epoch 3/20\n",
            "591/591 [==============================] - 1703s 3s/step - loss: 0.7228 - accuracy: 0.6167 - val_loss: 1.1047 - val_accuracy: 0.5126\n",
            "Epoch 4/20\n",
            "591/591 [==============================] - 1714s 3s/step - loss: 0.6814 - accuracy: 0.6440 - val_loss: 0.6792 - val_accuracy: 0.6608\n",
            "Epoch 5/20\n",
            "591/591 [==============================] - 1646s 3s/step - loss: 0.6636 - accuracy: 0.6498 - val_loss: 0.7686 - val_accuracy: 0.6172\n",
            "Epoch 6/20\n",
            "591/591 [==============================] - 1641s 3s/step - loss: 0.6358 - accuracy: 0.6683 - val_loss: 0.9363 - val_accuracy: 0.5777\n"
          ],
          "name": "stdout"
        }
      ]
    },
    {
      "cell_type": "code",
      "metadata": {
        "colab": {
          "base_uri": "https://localhost:8080/",
          "height": 499
        },
        "id": "_cd6Bi2WGaF8",
        "outputId": "a71e10f6-38d9-47bb-d621-30508c59439b"
      },
      "source": [
        "#Plotting accuracy & loss\r\n",
        "acc = history.history['accuracy']\r\n",
        "val_acc = history.history['val_accuracy']\r\n",
        "\r\n",
        "loss = history.history['loss']\r\n",
        "val_loss = history.history['val_loss']\r\n",
        "\r\n",
        "epochs_range = range(6)\r\n",
        "\r\n",
        "plt.figure(figsize=(8, 8))\r\n",
        "plt.subplot(1, 2, 1)\r\n",
        "plt.plot(epochs_range, acc, label='Training Accuracy')\r\n",
        "plt.plot(epochs_range, val_acc, label='Validation Accuracy')\r\n",
        "plt.legend(loc='lower right')\r\n",
        "plt.title('Training and Validation Accuracy')\r\n",
        "\r\n",
        "plt.subplot(1, 2, 2)\r\n",
        "plt.plot(epochs_range, loss, label='Training Loss')\r\n",
        "plt.plot(epochs_range, val_loss, label='Validation Loss')\r\n",
        "plt.legend(loc='upper right')\r\n",
        "plt.title('Training and Validation Loss')\r\n",
        "plt.show()"
      ],
      "execution_count": 126,
      "outputs": [
        {
          "output_type": "display_data",
          "data": {
            "image/png": "[encoded data removed]",
            "text/plain": [
              "<Figure size 576x576 with 2 Axes>"
            ]
          },
          "metadata": {
            "tags": [],
            "needs_background": "light"
          }
        }
      ]
    },
    {
      "cell_type": "code",
      "metadata": {
        "id": "LLhHQN-bGaMA"
      },
      "source": [
        ""
      ],
      "execution_count": null,
      "outputs": []
    },
    {
      "cell_type": "code",
      "metadata": {
        "id": "8_aX4I_WGaWj"
      },
      "source": [
        ""
      ],
      "execution_count": null,
      "outputs": []
    },
    {
      "cell_type": "code",
      "metadata": {
        "id": "5CnU0VU9CeDZ"
      },
      "source": [
        ""
      ],
      "execution_count": null,
      "outputs": []
    },
    {
      "cell_type": "code",
      "metadata": {
        "id": "_UNX1aeaCeLX"
      },
      "source": [
        ""
      ],
      "execution_count": null,
      "outputs": []
    },
    {
      "cell_type": "code",
      "metadata": {
        "id": "zPZI5_f1mhJd"
      },
      "source": [
        "#Testing & Evaluation"
      ],
      "execution_count": 161,
      "outputs": []
    },
    {
      "cell_type": "code",
      "metadata": {
        "colab": {
          "base_uri": "https://localhost:8080/"
        },
        "id": "3hk0-hLe9eb-",
        "outputId": "141c04c8-a77f-478c-f746-d787837e5afa"
      },
      "source": [
        "test_y['Label'].value_counts()"
      ],
      "execution_count": 150,
      "outputs": [
        {
          "output_type": "execute_result",
          "data": {
            "text/plain": [
              "0    2108\n",
              "1     462\n",
              "2      82\n",
              "Name: Label, dtype: int64"
            ]
          },
          "metadata": {
            "tags": []
          },
          "execution_count": 150
        }
      ]
    },
    {
      "cell_type": "code",
      "metadata": {
        "colab": {
          "base_uri": "https://localhost:8080/"
        },
        "id": "hITVMrT7dRdY",
        "outputId": "f3e67a9f-a9c9-4c30-f447-13b04b991f66"
      },
      "source": [
        "test_loss, test_acc = vgg.evaluate(test_x, test_y, verbose = 2)\r\n",
        "test_loss, test_acc"
      ],
      "execution_count": 132,
      "outputs": [
        {
          "output_type": "stream",
          "text": [
            "83/83 - 55s - loss: 0.3572 - accuracy: 0.8556\n"
          ],
          "name": "stdout"
        },
        {
          "output_type": "execute_result",
          "data": {
            "text/plain": [
              "(0.35718971490859985, 0.8555806875228882)"
            ]
          },
          "metadata": {
            "tags": []
          },
          "execution_count": 132
        }
      ]
    },
    {
      "cell_type": "code",
      "metadata": {
        "id": "irZy2B91N7db"
      },
      "source": [
        "#Random test on a test datapoint"
      ],
      "execution_count": 160,
      "outputs": []
    },
    {
      "cell_type": "code",
      "metadata": {
        "colab": {
          "base_uri": "https://localhost:8080/",
          "height": 285
        },
        "id": "Xxkv9zS0mb9b",
        "outputId": "43843b4f-b095-46b1-acba-beb6f9af7f88"
      },
      "source": [
        "idx = 90\r\n",
        "plt.imshow(test_x[idx].squeeze())"
      ],
      "execution_count": 147,
      "outputs": [
        {
          "output_type": "execute_result",
          "data": {
            "text/plain": [
              "<matplotlib.image.AxesImage at 0x7fc38bc85dd0>"
            ]
          },
          "metadata": {
            "tags": []
          },
          "execution_count": 147
        },
        {
          "output_type": "display_data",
          "data": {
            "image/png": "[encoded data removed]",
            "text/plain": [
              "<Figure size 432x288 with 1 Axes>"
            ]
          },
          "metadata": {
            "tags": [],
            "needs_background": "light"
          }
        }
      ]
    },
    {
      "cell_type": "code",
      "metadata": {
        "colab": {
          "base_uri": "https://localhost:8080/"
        },
        "id": "VDGsFI-fGBVP",
        "outputId": "31dc602b-eec6-4ad1-dd6f-c62228afccc6"
      },
      "source": [
        "pred = vgg.predict(test_x[idx].reshape(-1, 64, 64, 1))\r\n",
        "pred"
      ],
      "execution_count": 148,
      "outputs": [
        {
          "output_type": "execute_result",
          "data": {
            "text/plain": [
              "array([[0.00430501, 0.9155918 , 0.08010321, 0.00000001, 0.        ,\n",
              "        0.00000003, 0.00000001, 0.        , 0.00000001, 0.00000001]],\n",
              "      dtype=float32)"
            ]
          },
          "metadata": {
            "tags": []
          },
          "execution_count": 148
        }
      ]
    },
    {
      "cell_type": "code",
      "metadata": {
        "colab": {
          "base_uri": "https://localhost:8080/"
        },
        "id": "9gUmjEqkGBbd",
        "outputId": "136bfb2c-ae9d-4f08-ea01-daf47ae33ca0"
      },
      "source": [
        "\"\"\"\r\n",
        "0: Healthy  1: Pre-existing Conditions  3:Effusion/Mass\r\n",
        "\"\"\"\r\n",
        "np.argmax(pred), test_y.iloc[idx]"
      ],
      "execution_count": 149,
      "outputs": [
        {
          "output_type": "execute_result",
          "data": {
            "text/plain": [
              "(1, Label    1\n",
              " Name: 7870, dtype: int64)"
            ]
          },
          "metadata": {
            "tags": []
          },
          "execution_count": 149
        }
      ]
    },
    {
      "cell_type": "code",
      "metadata": {
        "id": "OwhpVeZ5NzLF"
      },
      "source": [
        "#Calculating the Confusion Matrix"
      ],
      "execution_count": 159,
      "outputs": []
    },
    {
      "cell_type": "code",
      "metadata": {
        "colab": {
          "base_uri": "https://localhost:8080/"
        },
        "id": "VMn8t3XTwkH4",
        "outputId": "4be2a454-1ec6-489d-86f8-82a57dab6cc0"
      },
      "source": [
        "predicted_labels = vgg.predict(test_x.reshape(-1, 64, 64, 1))\r\n",
        "predicted_labels"
      ],
      "execution_count": 133,
      "outputs": [
        {
          "output_type": "execute_result",
          "data": {
            "text/plain": [
              "array([[0.9034499 , 0.0509339 , 0.0455375 , ..., 0.00001441, 0.00000857,\n",
              "        0.00001108],\n",
              "       [0.2078556 , 0.54426444, 0.24787833, ..., 0.00000018, 0.00000012,\n",
              "        0.00000059],\n",
              "       [0.94184506, 0.04496688, 0.01317852, ..., 0.0000011 , 0.00000104,\n",
              "        0.00000083],\n",
              "       ...,\n",
              "       [0.98114634, 0.00244177, 0.01641181, ..., 0.00000002, 0.00000001,\n",
              "        0.00000001],\n",
              "       [0.8776089 , 0.09806649, 0.02431587, ..., 0.00000162, 0.00000203,\n",
              "        0.00000101],\n",
              "       [0.98839635, 0.01082885, 0.00077488, ..., 0.        , 0.        ,\n",
              "        0.        ]], dtype=float32)"
            ]
          },
          "metadata": {
            "tags": []
          },
          "execution_count": 133
        }
      ]
    },
    {
      "cell_type": "code",
      "metadata": {
        "id": "ZgimQgeUxv6y"
      },
      "source": [
        "vd_preds = np.argmax(predicted_labels,axis=1)"
      ],
      "execution_count": 136,
      "outputs": []
    },
    {
      "cell_type": "code",
      "metadata": {
        "colab": {
          "base_uri": "https://localhost:8080/"
        },
        "id": "IHXKSb3PGBdd",
        "outputId": "a27231a6-20ff-4846-b933-978c8ea5fb5e"
      },
      "source": [
        "from sklearn.metrics import plot_confusion_matrix\r\n",
        "from sklearn.metrics import confusion_matrix\r\n",
        "cnf_matrix = confusion_matrix(test_y, vd_preds)\r\n",
        "print(cnf_matrix)"
      ],
      "execution_count": 137,
      "outputs": [
        {
          "output_type": "stream",
          "text": [
            "[[1960  104   44]\n",
            " [  84  277  101]\n",
            " [  22   28   32]]\n"
          ],
          "name": "stdout"
        }
      ]
    },
    {
      "cell_type": "code",
      "metadata": {
        "colab": {
          "base_uri": "https://localhost:8080/",
          "height": 520
        },
        "id": "OEaedknF6RhI",
        "outputId": "32b85f9d-0109-4f0e-d31b-dc68b77888ed"
      },
      "source": [
        "#Plotting Confusion matrix\r\n",
        "import seaborn as sns\r\n",
        "plt.figure(figsize=(9,9))\r\n",
        "sns.heatmap(cnf_matrix, annot=True, fmt=\".3f\", linewidths=.5, square = True, cmap = 'Blues_r');\r\n",
        "plt.ylabel('Actual label');\r\n",
        "plt.xlabel('Predicted label');\r\n",
        "all_sample_title = 'Accuracy Score: {0}'\r\n",
        "plt.title(all_sample_title, size = 15);"
      ],
      "execution_count": 143,
      "outputs": [
        {
          "output_type": "display_data",
          "data": {
            "image/png": "[encoded data removed]",
            "text/plain": [
              "<Figure size 648x648 with 2 Axes>"
            ]
          },
          "metadata": {
            "tags": [],
            "needs_background": "light"
          }
        }
      ]
    },
    {
      "cell_type": "code",
      "metadata": {
        "colab": {
          "base_uri": "https://localhost:8080/"
        },
        "id": "9vuCGtrmGBgM",
        "outputId": "a4fef0ce-1c96-4dc8-da53-5cf0a4f5c8e7"
      },
      "source": [
        "#Confusion matrix metrics\r\n",
        "FP = cnf_matrix.sum(axis=0) - np.diag(cnf_matrix) \r\n",
        "FN = cnf_matrix.sum(axis=1) - np.diag(cnf_matrix)\r\n",
        "TP = np.diag(cnf_matrix)\r\n",
        "TN = cnf_matrix.sum() - (FP + FN + TP)\r\n",
        "FP = FP.astype(float)\r\n",
        "print('False Positive: ', FP)\r\n",
        "FN = FN.astype(float)\r\n",
        "print('False Negative: ', FN)\r\n",
        "TP = TP.astype(float)\r\n",
        "print('True Positive: ', TP)\r\n",
        "TN = TN.astype(float)\r\n",
        "print('True Negative: ', TN)\r\n",
        "# Sensitivity, hit rate, recall, or true positive rate\r\n",
        "TPR = TP/(TP+FN)\r\n",
        "print('Sensitivity/Recall: ',TPR)\r\n",
        "# Specificity or true negative rate\r\n",
        "TNR = TN/(TN+FP) \r\n",
        "print('Specificity: ',TNR)\r\n",
        "# Precision or positive predictive value\r\n",
        "PPV = TP/(TP+FP)\r\n",
        "print('Precission: ',PPV)\r\n",
        "# Overall accuracy for each class\r\n",
        "ACC = (TP+TN)/(TP+FP+FN+TN)\r\n",
        "print('Accuracy: ',ACC)"
      ],
      "execution_count": 158,
      "outputs": [
        {
          "output_type": "stream",
          "text": [
            "False Positive:  [106. 132. 145.]\n",
            "False Negative:  [148. 185.  50.]\n",
            "True Positive:  [1960.  277.   32.]\n",
            "True Negative:  [ 438. 2058. 2425.]\n",
            "Sensitivity/Recall:  [0.92979127 0.5995671  0.3902439 ]\n",
            "Specificity:  [0.80514706 0.93972603 0.94357977]\n",
            "Precission:  [0.94869313 0.67726161 0.18079096]\n",
            "Accuracy:  [0.90422323 0.88046757 0.92647059]\n"
          ],
          "name": "stdout"
        }
      ]
    },
    {
      "cell_type": "code",
      "metadata": {
        "id": "dSf3PYYYGBjJ"
      },
      "source": [
        "#Interpretations:\r\n",
        "\r\n",
        "#\tThe image classifier model VGG with early stopping & drop out,  is able to classify the CT-scanned lung images into three categories namely healthy patients (represented by \r\n",
        "#label ‘0’), patients with pre-existing conditions (represented by label ‘1’) & patients with serious condition (represented by label ‘2’),with an accuracy of 0.85.\r\n",
        "\r\n",
        "#\tWe also created a confusion matrix for the final classifier in order to evaluate it. We achieved a specificity of 0.80 for label ‘0’, 0.93 for label ‘1’ & 0.94 for label ‘2’.\r\n",
        "#This high specificity/true negative rate suggests that the model was able to correctly identify the proportion of those who do not have the condition (unaffected). That is, \r\n",
        "# the healthy people are not classified as someone who needs care, also the people who needs care are also not classified as someone who is healthy, with a high degree of accuracy.\r\n",
        "\r\n",
        "#\tThe data provided was highly unbalanced, we applied the over sampling technique called SMOTE in order to balance the minority class data. This was a important step because \r\n",
        "#with the provided label segregation our model will be heavy/biased towards the label ‘0’ data, so in cases when we have a dataset comprising mostly of label ‘1’ or label ‘2’ \r\n",
        "#data the model will perform poorly\r\n",
        "\r\n",
        "#\tWe also used the model to predict the classes of new images (as part of the Kaggle competition), we are getting an accuracy of 71% there. Therefore, we can say that the model \r\n",
        "#works very well & is successfully able to classify the scanned images into three categories.\r\n",
        "\r\n"
      ],
      "execution_count": 156,
      "outputs": []
    },
    {
      "cell_type": "code",
      "metadata": {
        "id": "nlZyqAdfGBmk"
      },
      "source": [
        ""
      ],
      "execution_count": null,
      "outputs": []
    },
    {
      "cell_type": "code",
      "metadata": {
        "id": "V0w-Bi5SmcAw"
      },
      "source": [
        ""
      ],
      "execution_count": null,
      "outputs": []
    },
    {
      "cell_type": "code",
      "metadata": {
        "id": "YPh7F0kdmcF9"
      },
      "source": [
        ""
      ],
      "execution_count": null,
      "outputs": []
    },
    {
      "cell_type": "code",
      "metadata": {
        "id": "dWQ7SmxnmcTQ"
      },
      "source": [
        "#KAGGLE COMPETITION"
      ],
      "execution_count": 157,
      "outputs": []
    },
    {
      "cell_type": "code",
      "metadata": {
        "colab": {
          "resources": {
            "http://localhost:8080/nbextensions/google.colab/files.js": {
              "data": "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",
              "ok": true,
              "headers": [
                [
                  "content-type",
                  "application/javascript"
                ]
              ],
              "status": 200,
              "status_text": ""
            }
          },
          "base_uri": "https://localhost:8080/",
          "height": 73
        },
        "id": "G9kkI29ndRfr",
        "outputId": "4a009b46-d44b-413d-cf3c-f554480c314b"
      },
      "source": [
        "from google.colab import files \r\n",
        "uploadedY = files.upload()\r\n",
        "import io \r\n",
        "kaggle = np.load(io.BytesIO(uploadedY['ps4_kaggle_images.npy'])) "
      ],
      "execution_count": 85,
      "outputs": [
        {
          "output_type": "display_data",
          "data": {
            "text/html": [
              "\n",
              "     <input type=\"file\" id=\"files-9797d2ef-f38c-4423-bfcc-6c6fd060dab0\" name=\"files[]\" multiple disabled\n",
              "        style=\"border:none\" />\n",
              "     <output id=\"result-9797d2ef-f38c-4423-bfcc-6c6fd060dab0\">\n",
              "      Upload widget is only available when the cell has been executed in the\n",
              "      current browser session. Please rerun this cell to enable.\n",
              "      </output>\n",
              "      <script src=\"/nbextensions/google.colab/files.js\"></script> "
            ],
            "text/plain": [
              "<IPython.core.display.HTML object>"
            ]
          },
          "metadata": {
            "tags": []
          }
        },
        {
          "output_type": "stream",
          "text": [
            "Saving ps4_kaggle_images.npy to ps4_kaggle_images.npy\n"
          ],
          "name": "stdout"
        }
      ]
    },
    {
      "cell_type": "code",
      "metadata": {
        "colab": {
          "base_uri": "https://localhost:8080/"
        },
        "id": "PIh7aQCRdRht",
        "outputId": "0fc0ad22-3275-42ae-8eca-68657eaba475"
      },
      "source": [
        "kaggle.shape"
      ],
      "execution_count": 86,
      "outputs": [
        {
          "output_type": "execute_result",
          "data": {
            "text/plain": [
              "(300, 64, 64, 1)"
            ]
          },
          "metadata": {
            "tags": []
          },
          "execution_count": 86
        }
      ]
    },
    {
      "cell_type": "code",
      "metadata": {
        "colab": {
          "base_uri": "https://localhost:8080/"
        },
        "id": "jk5qQJqikX-w",
        "outputId": "82d64412-74de-42c1-894e-af469804c2d6"
      },
      "source": [
        "len(kaggle)"
      ],
      "execution_count": 87,
      "outputs": [
        {
          "output_type": "execute_result",
          "data": {
            "text/plain": [
              "300"
            ]
          },
          "metadata": {
            "tags": []
          },
          "execution_count": 87
        }
      ]
    },
    {
      "cell_type": "code",
      "metadata": {
        "colab": {
          "base_uri": "https://localhost:8080/"
        },
        "id": "onvUJywbey_U",
        "outputId": "898a8ce6-1ce8-4348-e4b7-cca57a92c5cc"
      },
      "source": [
        "list1 = []\r\n",
        "list2 = []\r\n",
        "Predicted = []\r\n",
        "for i in range(0,len(kaggle)):\r\n",
        "  pred = vggA.predict(kaggle[i].reshape(-1, 64, 64, 1))\r\n",
        "  list1 = np.argmax(pred)\r\n",
        "  Predicted.append(list1)\r\n",
        "  list2.append(i)\r\n",
        "print(list2)"
      ],
      "execution_count": 128,
      "outputs": [
        {
          "output_type": "stream",
          "text": [
            "[0, 1, 2, 3, 4, 5, 6, 7, 8, 9, 10, 11, 12, 13, 14, 15, 16, 17, 18, 19, 20, 21, 22, 23, 24, 25, 26, 27, 28, 29, 30, 31, 32, 33, 34, 35, 36, 37, 38, 39, 40, 41, 42, 43, 44, 45, 46, 47, 48, 49, 50, 51, 52, 53, 54, 55, 56, 57, 58, 59, 60, 61, 62, 63, 64, 65, 66, 67, 68, 69, 70, 71, 72, 73, 74, 75, 76, 77, 78, 79, 80, 81, 82, 83, 84, 85, 86, 87, 88, 89, 90, 91, 92, 93, 94, 95, 96, 97, 98, 99, 100, 101, 102, 103, 104, 105, 106, 107, 108, 109, 110, 111, 112, 113, 114, 115, 116, 117, 118, 119, 120, 121, 122, 123, 124, 125, 126, 127, 128, 129, 130, 131, 132, 133, 134, 135, 136, 137, 138, 139, 140, 141, 142, 143, 144, 145, 146, 147, 148, 149, 150, 151, 152, 153, 154, 155, 156, 157, 158, 159, 160, 161, 162, 163, 164, 165, 166, 167, 168, 169, 170, 171, 172, 173, 174, 175, 176, 177, 178, 179, 180, 181, 182, 183, 184, 185, 186, 187, 188, 189, 190, 191, 192, 193, 194, 195, 196, 197, 198, 199, 200, 201, 202, 203, 204, 205, 206, 207, 208, 209, 210, 211, 212, 213, 214, 215, 216, 217, 218, 219, 220, 221, 222, 223, 224, 225, 226, 227, 228, 229, 230, 231, 232, 233, 234, 235, 236, 237, 238, 239, 240, 241, 242, 243, 244, 245, 246, 247, 248, 249, 250, 251, 252, 253, 254, 255, 256, 257, 258, 259, 260, 261, 262, 263, 264, 265, 266, 267, 268, 269, 270, 271, 272, 273, 274, 275, 276, 277, 278, 279, 280, 281, 282, 283, 284, 285, 286, 287, 288, 289, 290, 291, 292, 293, 294, 295, 296, 297, 298, 299]\n"
          ],
          "name": "stdout"
        }
      ]
    },
    {
      "cell_type": "code",
      "metadata": {
        "colab": {
          "base_uri": "https://localhost:8080/"
        },
        "id": "NhId54HZezD3",
        "outputId": "05b1db7c-a767-45a6-c8cd-09d3a440a73a"
      },
      "source": [
        "df = pd.DataFrame()\r\n",
        "df['Id'] = list2\r\n",
        "df['Predicted'] = Predicted\r\n",
        "\r\n",
        "column = df['Predicted']\r\n",
        "max_value = column.max()\r\n",
        "max_value"
      ],
      "execution_count": 129,
      "outputs": [
        {
          "output_type": "execute_result",
          "data": {
            "text/plain": [
              "2"
            ]
          },
          "metadata": {
            "tags": []
          },
          "execution_count": 129
        }
      ]
    },
    {
      "cell_type": "code",
      "metadata": {
        "colab": {
          "base_uri": "https://localhost:8080/",
          "height": 402
        },
        "id": "O7rHzjsi3s6-",
        "outputId": "a52c58a7-be3e-48e8-a9a3-8f0d267026cb"
      },
      "source": [
        "df"
      ],
      "execution_count": 130,
      "outputs": [
        {
          "output_type": "execute_result",
          "data": {
            "text/html": [
              "<div>\n",
              "<style scoped>\n",
              "    .dataframe tbody tr th:only-of-type {\n",
              "        vertical-align: middle;\n",
              "    }\n",
              "\n",
              "    .dataframe tbody tr th {\n",
              "        vertical-align: top;\n",
              "    }\n",
              "\n",
              "    .dataframe thead th {\n",
              "        text-align: right;\n",
              "    }\n",
              "</style>\n",
              "<table border=\"1\" class=\"dataframe\">\n",
              "  <thead>\n",
              "    <tr style=\"text-align: right;\">\n",
              "      <th></th>\n",
              "      <th>Id</th>\n",
              "      <th>Predicted</th>\n",
              "    </tr>\n",
              "  </thead>\n",
              "  <tbody>\n",
              "    <tr>\n",
              "      <th>0</th>\n",
              "      <td>0</td>\n",
              "      <td>1</td>\n",
              "    </tr>\n",
              "    <tr>\n",
              "      <th>1</th>\n",
              "      <td>1</td>\n",
              "      <td>1</td>\n",
              "    </tr>\n",
              "    <tr>\n",
              "      <th>2</th>\n",
              "      <td>2</td>\n",
              "      <td>0</td>\n",
              "    </tr>\n",
              "    <tr>\n",
              "      <th>3</th>\n",
              "      <td>3</td>\n",
              "      <td>1</td>\n",
              "    </tr>\n",
              "    <tr>\n",
              "      <th>4</th>\n",
              "      <td>4</td>\n",
              "      <td>0</td>\n",
              "    </tr>\n",
              "    <tr>\n",
              "      <th>...</th>\n",
              "      <td>...</td>\n",
              "      <td>...</td>\n",
              "    </tr>\n",
              "    <tr>\n",
              "      <th>295</th>\n",
              "      <td>295</td>\n",
              "      <td>2</td>\n",
              "    </tr>\n",
              "    <tr>\n",
              "      <th>296</th>\n",
              "      <td>296</td>\n",
              "      <td>1</td>\n",
              "    </tr>\n",
              "    <tr>\n",
              "      <th>297</th>\n",
              "      <td>297</td>\n",
              "      <td>1</td>\n",
              "    </tr>\n",
              "    <tr>\n",
              "      <th>298</th>\n",
              "      <td>298</td>\n",
              "      <td>1</td>\n",
              "    </tr>\n",
              "    <tr>\n",
              "      <th>299</th>\n",
              "      <td>299</td>\n",
              "      <td>0</td>\n",
              "    </tr>\n",
              "  </tbody>\n",
              "</table>\n",
              "<p>300 rows × 2 columns</p>\n",
              "</div>"
            ],
            "text/plain": [
              "      Id  Predicted\n",
              "0      0          1\n",
              "1      1          1\n",
              "2      2          0\n",
              "3      3          1\n",
              "4      4          0\n",
              "..   ...        ...\n",
              "295  295          2\n",
              "296  296          1\n",
              "297  297          1\n",
              "298  298          1\n",
              "299  299          0\n",
              "\n",
              "[300 rows x 2 columns]"
            ]
          },
          "metadata": {
            "tags": []
          },
          "execution_count": 130
        }
      ]
    },
    {
      "cell_type": "code",
      "metadata": {
        "id": "iL3um97iezJv"
      },
      "source": [
        "df.to_csv('VGG_earlystop_aug_Dropout1.csv', index=False)"
      ],
      "execution_count": 131,
      "outputs": []
    },
    {
      "cell_type": "code",
      "metadata": {
        "id": "_tEzC3cL3x2H"
      },
      "source": [
        ""
      ],
      "execution_count": null,
      "outputs": []
    },
    {
      "cell_type": "code",
      "metadata": {
        "id": "zS3gqaX73KBv"
      },
      "source": [
        ""
      ],
      "execution_count": null,
      "outputs": []
    },
    {
      "cell_type": "code",
      "metadata": {
        "id": "YcQO7O0c3KJV"
      },
      "source": [
        ""
      ],
      "execution_count": null,
      "outputs": []
    },
    {
      "cell_type": "code",
      "metadata": {
        "id": "MHhBQxcc3KN6"
      },
      "source": [
        ""
      ],
      "execution_count": null,
      "outputs": []
    }
  ]
}